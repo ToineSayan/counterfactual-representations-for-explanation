{
 "cells": [
  {
   "cell_type": "markdown",
   "metadata": {},
   "source": [
    "# Explaining Text Classifiers with Counterfactual Representations \n",
    "\n",
    "Dataset: BiasInBios with 'gender' as the manipulated concept (2 concept values)"
   ]
  },
  {
   "cell_type": "code",
   "execution_count": 90,
   "metadata": {},
   "outputs": [],
   "source": [
    "from concept_erasure import LeaceEraser, LeaceFitter\n",
    "import torch\n",
    "import numpy as np\n",
    "import scipy\n",
    "\n",
    "from sklearn.linear_model import SGDClassifier, LinearRegression\n",
    "from sklearn.neural_network import MLPClassifier,  MLPRegressor\n",
    "from sklearn.mixture import GaussianMixture\n",
    "from sklearn.model_selection import GridSearchCV\n",
    "\n",
    "\n",
    "from matplotlib import pyplot\n",
    "from matplotlib.ticker import FormatStrFormatter\n"
   ]
  },
  {
   "cell_type": "code",
   "execution_count": 91,
   "metadata": {},
   "outputs": [],
   "source": [
    "# Global parameters\n",
    "\n",
    "projection_method = 'orth' # 'orth' or 'leace' ('leace' is the oblique projection from Belrose et al., 2023, LEACE: Perfect linear concept erasure in closed form, NeurIPS 2023)\n",
    "global_seed = 42 # used for reproductibility\n",
    "rcond = 1e-5 # used for regressions \n",
    "\n",
    "dataset = 'glove-gender'\n",
    "dataset = 'original' \n",
    "\n",
    "lin_cl_loss = 'log_loss'\n",
    "concept_manipulated = 'gender' # 'gender' "
   ]
  },
  {
   "cell_type": "markdown",
   "metadata": {},
   "source": [
    "## LOADING DATA \n",
    "\n",
    "- Data is located in the dataset: *./datasets/EEEC/EEEC_3race/*\n",
    "- **bert** representations for each observations have been pre-calculated using **bert-base-uncased** model (via Huggingface library) and stored in a dictonnary of arrays *D.npz*"
   ]
  },
  {
   "cell_type": "markdown",
   "metadata": {},
   "source": [
    "## Loading train, validation and test data"
   ]
  },
  {
   "cell_type": "code",
   "execution_count": 92,
   "metadata": {},
   "outputs": [
    {
     "name": "stdout",
     "output_type": "stream",
     "text": [
      " \n",
      "Features:\n",
      "    d = 301\n",
      "Number of observations:\n",
      "    train: 7350\n",
      "    validation: 3150\n",
      "    test: 4500\n",
      "Z labels (protected concept levels): \n",
      "    k = 2 \n",
      "    mapping: {0: 0, 1: 1}\n",
      "    num_obs_train: {0: 3632, 1: 3718}\n",
      "    num_obs_validation: {0: 1592, 1: 1558}\n",
      "    num_obs_test: {0: 2276, 1: 2224}\n",
      "\n"
     ]
    }
   ],
   "source": [
    "def load_glove(max_samples = None, normalize=True): \n",
    "    import pickle\n",
    "    data_folder = './datasets/glove-gender/'\n",
    "    # dataset = 'glove-gender'\n",
    "    # concept_to_erase = 'gender'\n",
    "\n",
    "    filename = f'glove-gender-data.pickle'\n",
    "\n",
    "    # Load the original train, validation, test split\n",
    "    with open(data_folder + filename, \"rb\") as f:\n",
    "        data_dict = pickle.load(f)\n",
    "        X,Z,words_train = data_dict[\"train\"]\n",
    "        X_val, Z_val,words_val = data_dict[\"dev\"]\n",
    "        X_test, Z_test, words_test = data_dict[\"test\"]\n",
    "        \n",
    "        X,Z = X[Z > -1], Z[Z>-1]\n",
    "        X_val,Z_val = X_val[Z_val > -1], Z_val[Z_val>-1]\n",
    "        X_test, Z_test = X_test[Z_test > -1], Z_test[Z_test>-1]\n",
    "        \n",
    "        X = np.concatenate([X, np.ones((X.shape[0], 1))], axis=1)\n",
    "        X_val = np.concatenate([X_val, np.ones((X_val.shape[0], 1))], axis=1)\n",
    "        X_test = np.concatenate([X_test, np.ones((X_test.shape[0], 1))], axis=1)\n",
    "        \n",
    "        if normalize:\n",
    "            X/=np.linalg.norm(X,axis=1,keepdims=True)\n",
    "            X_val/=np.linalg.norm(X_val,axis=1,keepdims=True)\n",
    "            X_test/=np.linalg.norm(X_test, axis=1, keepdims=True)\n",
    "            \n",
    "    \n",
    "    if max_samples is not None and type(max_samples) is int:\n",
    "        N_samples = min(max_samples, X.shape[0])\n",
    "        idx = np.arange(X.shape[0])\n",
    "        # np.random.shuffle(idx, seed))\n",
    "        X, Z = X[idx[:N_samples]], Z[idx[:N_samples]]\n",
    "        \n",
    "    return X, None, Z, X_val, None, Z_val, X_test, None, Z_test, None, None, words_train, words_val, words_test\n",
    "\n",
    "\n",
    "X, _, Z_raw, X_val, _, Z_val_raw, X_test, _, Z_test_raw, _, _, words_train, words_val, words_test = load_glove(normalize=True)\n",
    "\n",
    "\n",
    "\n",
    "n, d = X.shape # n: number of observations in the train set, d: number of features\n",
    "n_test, _ = X_test.shape # n_test: number of observations in the test set\n",
    "n_validation, _ = X_val.shape # n_validation: number of observations in the validation set\n",
    "z_values = sorted(np.unique(Z_raw)) # list of concept values\n",
    "k = len(z_values) # number of concept values\n",
    "\n",
    "\n",
    "z_label2id = {z_values[i]:i for i in range(len(z_values))}\n",
    "\n",
    "Z = np.array([z_label2id[z] for z in Z_raw]).astype(int)\n",
    "Z_test = np.array([z_label2id[z] for z in Z_test_raw]).astype(int)\n",
    "Z_val = np.array([z_label2id[z] for z in Z_val_raw]).astype(int)\n",
    "\n",
    "\n",
    "# Calculate the one hot version of Z\n",
    "def to_one_hot(A):\n",
    "        A_1hot = np.zeros((A.size, A.max()+1))\n",
    "        A_1hot[np.arange(A.size), A] = 1\n",
    "        return A_1hot\n",
    "Z_1hot = to_one_hot(Z)\n",
    "\n",
    "# calculate number of observations per value of Z and Y\n",
    "z_label2numobs_train = {z_values[i]:np.nonzero([Z==z_label2id[z_values[i]]])[0].shape[0] for i in range(len(z_values))}\n",
    "z_label2numobs_validation = {z_values[i]:np.nonzero([Z_val==z_label2id[z_values[i]]])[0].shape[0] for i in range(len(z_values))}\n",
    "z_label2numobs_test = {z_values[i]:np.nonzero([Z_test==z_label2id[z_values[i]]])[0].shape[0] for i in range(len(z_values))}\n",
    "\n",
    "z_id2label = {int(v):k for k,v in z_label2id.items()}\n",
    "\n",
    "\n",
    "# Display dataset statistics:\n",
    "print(f''' \n",
    "Features:\n",
    "    d = {d}\n",
    "Number of observations:\n",
    "    train: {n}\n",
    "    validation: {n_validation}\n",
    "    test: {n_test}\n",
    "Z labels (protected concept levels): \n",
    "    k = {k} \n",
    "    mapping: {z_label2id.__str__()}\n",
    "    num_obs_train: {z_label2numobs_train.__str__()}\n",
    "    num_obs_validation: {z_label2numobs_validation.__str__()}\n",
    "    num_obs_test: {z_label2numobs_test.__str__()}\n",
    "''')"
   ]
  },
  {
   "cell_type": "markdown",
   "metadata": {},
   "source": [
    "# Training linear classifiers"
   ]
  },
  {
   "cell_type": "markdown",
   "metadata": {},
   "source": [
    "$\\hat{Y}$: mood state classifier (POMS)\n",
    "\n",
    "$\\hat{Z}$: race classifier (3 values)"
   ]
  },
  {
   "cell_type": "markdown",
   "metadata": {},
   "source": [
    "Training a POMS linear classifier"
   ]
  },
  {
   "cell_type": "code",
   "execution_count": 93,
   "metadata": {},
   "outputs": [],
   "source": [
    "def linear_classifier(args, random_state=global_seed):\n",
    "    lcf = SGDClassifier(\n",
    "        loss=lin_cl_loss, validation_fraction=0.2, early_stopping=True, random_state=random_state, \n",
    "        penalty='l2', max_iter=5000, n_jobs=-1, learning_rate='optimal', warm_start=True, n_iter_no_change=200\n",
    "    )\n",
    "    lcf.set_params(**args)\n",
    "    return lcf"
   ]
  },
  {
   "cell_type": "markdown",
   "metadata": {},
   "source": [
    "### Training of $\\widehat{Z}$"
   ]
  },
  {
   "cell_type": "code",
   "execution_count": 94,
   "metadata": {},
   "outputs": [],
   "source": [
    "## Uncomment if you want to make a grid search\n",
    "#\n",
    "# eta_z = linear_classifier({'alpha': 1e-5})\n",
    "# parameters = {\n",
    "#     'alpha':[1e-3, 1e-4, 1e-5, 1e-6, 1e-7],\n",
    "# }\n",
    "# eta_z = GridSearchCV(eta_y, parameters)"
   ]
  },
  {
   "cell_type": "code",
   "execution_count": 95,
   "metadata": {},
   "outputs": [
    {
     "name": "stdout",
     "output_type": "stream",
     "text": [
      "Train accuracy: 100.00%\n",
      "Test accuracy:  100.00%\n"
     ]
    }
   ],
   "source": [
    "eta_z = linear_classifier({'alpha': 1e-5})\n",
    "eta_z.fit(X, Z)\n",
    "print(\"Train accuracy:\", f\"{100*eta_z.score(X, Z):.2f}%\")\n",
    "print(\"Test accuracy: \", f\"{100*eta_z.score(X_test, Z_test):.2f}%\") "
   ]
  },
  {
   "cell_type": "code",
   "execution_count": 96,
   "metadata": {},
   "outputs": [
    {
     "name": "stdout",
     "output_type": "stream",
     "text": [
      "Per value accuracy:\n",
      "\n",
      "label id label name                train acc. (%) test acc. (%)\n",
      "0        0                         100.00         100.00       \n",
      "1        1                         100.00         100.00       \n"
     ]
    }
   ],
   "source": [
    "print(\"Per value accuracy:\\n\")\n",
    "z_predicted = eta_z.predict(X)\n",
    "z_predicted_test = eta_z.predict(X_test)\n",
    "print(\"label id\", f\"{'label name':<25}\", \"train acc. (%)\", \"test acc. (%)\")\n",
    "for i in range(k):\n",
    "    acc_i = np.sum(z_predicted[Z == i] == i) / np.sum([Z == i])\n",
    "    acc_i_test = np.sum(z_predicted_test[Z_test == i] == i) / np.sum([Z_test == i])\n",
    "    print(f\"{i:<8}\",f\"{z_id2label[i]:<25}\", f\"{100*acc_i:<14.2f}\", f\"{100*acc_i_test:<13.2f}\")"
   ]
  },
  {
   "cell_type": "markdown",
   "metadata": {},
   "source": [
    "## Concept Erasure\n",
    "\n",
    "Concept to erase: gender (2 values)\\\n",
    "Erasure method: orthogonal projection on $V^\\perp$ (by default) or LEACE oblique projection on $V^\\perp$ "
   ]
  },
  {
   "cell_type": "markdown",
   "metadata": {},
   "source": [
    "### Erasure"
   ]
  },
  {
   "cell_type": "code",
   "execution_count": 97,
   "metadata": {},
   "outputs": [],
   "source": [
    "class Erasure:\n",
    "    \n",
    "    def __init__(self, projection='orth', rcond=1e-5):\n",
    "        \"\"\"\n",
    "        Parameters: \n",
    "        projection (str): 'orth' for an orthogonal projection, 'leace' for an oblique projection using the LEACE projector\n",
    "        rcond (str): linalg rcond coef\n",
    "        \"\"\"\n",
    "        self.rcond = rcond\n",
    "        self.projection = projection\n",
    "        self.P = None\n",
    "        self.SigXZ = None\n",
    "        self.E_SigXZ = None\n",
    "        self.E_P = None\n",
    "    \n",
    "    def fit(self, X, Z_1hot):\n",
    "        self.SigXZ = LeaceFitter.fit(\n",
    "            torch.Tensor(X),\n",
    "            torch.Tensor(Z_1hot)\n",
    "        ).sigma_xz.numpy()\n",
    "        self.E_SigXZ = scipy.linalg.orth(self.SigXZ, rcond=self.rcond).T\n",
    "\n",
    "        if self.projection == 'leace':\n",
    "            self.P = LeaceEraser.fit(\n",
    "                torch.Tensor(X),\n",
    "                torch.Tensor(Z_1hot)                    \n",
    "        ).P.numpy()\n",
    "        else:\n",
    "            # I - A (A.T A)^-1 A.T\n",
    "            self.P = np.eye(self.SigXZ.shape[0]) - self.E_SigXZ.T @ np.linalg.inv(self.E_SigXZ @ self.E_SigXZ.T) @ self.E_SigXZ\n",
    "        self.E_P = scipy.linalg.orth(self.P, rcond=self.rcond).T\n",
    "    \n",
    "    def erase_concept(self, X):\n",
    "        return X @ self.P.T\n",
    "    \n",
    "    def to_vec(self, coordinates, subspace):\n",
    "        E_subspace = self.E_P if subspace == 'E_P' else self.E_SigXZ\n",
    "        if len(coordinates.shape) < 2:\n",
    "            return coordinates[:,np.newaxis] @ E_subspace\n",
    "        else:\n",
    "            return coordinates @ E_subspace\n",
    "    \n",
    "    def get_coordinates(self, X, subspace):\n",
    "        E_subspace = self.E_P if subspace == 'E_P' else self.E_SigXZ\n",
    "        if self.projection == 'leace':\n",
    "            return (X - X @ self.P.T) @ E_subspace.T.squeeze()\n",
    "        else:\n",
    "            return X @ E_subspace.T.squeeze()\n"
   ]
  },
  {
   "cell_type": "code",
   "execution_count": 98,
   "metadata": {},
   "outputs": [
    {
     "name": "stdout",
     "output_type": "stream",
     "text": [
      "Rank of colsp(Sigma_XZ): 1 \t(sanity check: must be equal to k-1 = 1)\n",
      "Rank of colsp(P):        300 \t(sanity check: must be equal to d-k+1 = 300)\n"
     ]
    }
   ],
   "source": [
    "LinearErasure = Erasure(projection=projection_method, rcond=rcond)\n",
    "LinearErasure.fit(X, Z_1hot)\n",
    "print(\"Rank of colsp(Sigma_XZ):\", LinearErasure.E_SigXZ.shape[0], f\"\\t(sanity check: must be equal to k-1 = {k-1})\")\n",
    "print(\"Rank of colsp(P):       \", LinearErasure.E_P.shape[0], f\"\\t(sanity check: must be equal to d-k+1 = {d-k+1})\")"
   ]
  },
  {
   "cell_type": "markdown",
   "metadata": {},
   "source": [
    "### Evaluation of the linear erasure"
   ]
  },
  {
   "cell_type": "code",
   "execution_count": 99,
   "metadata": {},
   "outputs": [
    {
     "name": "stdout",
     "output_type": "stream",
     "text": [
      "Accuracy of a linear classifier trained to predict Z from X_orth:\n",
      "Train accuracy: 50.56%\n",
      "Test accuracy:  48.80% \t(must be approx. 50.00%)\n",
      "\n"
     ]
    }
   ],
   "source": [
    "X_ = LinearErasure.erase_concept(X)\n",
    "X_test_ = LinearErasure.erase_concept(X_test)\n",
    "\n",
    "# Check that predicting linearly Z from X_ leads to bad results (concept has been erased linearly)\n",
    "sgdclass = linear_classifier({'alpha': 1e-4}).fit(X_, Z)\n",
    "print(f\"Accuracy of a linear classifier trained to predict Z from X_orth:\")\n",
    "print(\"Train accuracy:\", f\"{100*sgdclass.score(X_,Z):.2f}%\")\n",
    "print(\"Test accuracy: \", f\"{100*sgdclass.score(X_test_, Z_test):.2f}%\", f\"\\t(must be approx. {100/k:.2f}%)\\n\") \n"
   ]
  },
  {
   "cell_type": "code",
   "execution_count": 100,
   "metadata": {},
   "outputs": [
    {
     "name": "stdout",
     "output_type": "stream",
     "text": [
      "Accuracy of a non-linear classifier (2-layer MLP) trained to predict Z from X_orth:\n",
      "Train accuracy: 99.40%\n",
      "Test accuracy:  97.04% \t(>> 50.00%))\n"
     ]
    }
   ],
   "source": [
    "# Check if a non-linear classifier can predict accurately Z from X_\n",
    "mlpclf = MLPClassifier(random_state=global_seed, max_iter=300, early_stopping=True).fit(X_, Z)\n",
    "print(f\"Accuracy of a non-linear classifier (2-layer MLP) trained to predict Z from X_orth:\")\n",
    "print(\"Train accuracy:\", f\"{100*mlpclf.score(X_,Z):.2f}%\")\n",
    "print(\"Test accuracy: \", f\"{100*mlpclf.score(X_test_, Z_test):.2f}%\", f\"\\t(>> {100/k:.2f}%))\")"
   ]
  },
  {
   "cell_type": "markdown",
   "metadata": {},
   "source": [
    "# Plot the data"
   ]
  },
  {
   "cell_type": "code",
   "execution_count": 101,
   "metadata": {},
   "outputs": [
    {
     "data": {
      "image/png": "[encoded data removed]",
      "text/plain": [
       "<Figure size 640x480 with 1 Axes>"
      ]
     },
     "metadata": {},
     "output_type": "display_data"
    }
   ],
   "source": [
    "# Plot\n",
    "\n",
    "# need to add the case where v[0] == 0\n",
    "def vect_to_equation(v, x, intercept_x = 0):\n",
    "    y = v[1] / v[0] * (x - intercept_x) \n",
    "    return y\n",
    "\n",
    "lambda_SigXZ = LinearErasure.get_coordinates(X, subspace='E_SigXZ')\n",
    "mean_lambda = np.mean(lambda_SigXZ)\n",
    "\n",
    "colors = ['pink', 'cyan']\n",
    "\n",
    "# Plot the training data points \n",
    "for z in np.unique(Z):\n",
    "    indices = Z == z\n",
    "    X_SigXZ_z = lambda_SigXZ[indices]\n",
    "    _ = pyplot.hist(X_SigXZ_z, bins=100, label=f'z = {z} ({z_id2label[z]})', color=colors[z])\n",
    "\n",
    "_ = pyplot.title('Train set projected onto colsp(Sigma_XZ)')\n",
    "_ = pyplot.legend()\n"
   ]
  },
  {
   "cell_type": "markdown",
   "metadata": {},
   "source": [
    "# Linear reconstruction of $x^\\parallel$ with a MSE loss objective"
   ]
  },
  {
   "cell_type": "code",
   "execution_count": 102,
   "metadata": {},
   "outputs": [],
   "source": [
    "# To improve\n",
    "# - don't use LEACE library to calculate Sigma_XZ and the LEACE projector\n",
    "\n",
    "class LinearConceptValueAssignmentWithMSEloss:\n",
    "\n",
    "    def __init__(self, random_state=global_seed, rcond=rcond):\n",
    "        self.predictors = {}\n",
    "        self.noises = {}\n",
    "        self.LinearErasure = Erasure() # P and Sigma_XZ in it\n",
    "        self.random_state = random_state\n",
    "        self.alpha = 5e-2 #orth\n",
    "        # self.alpha = 1e-4 #leace\n",
    "        self.lr = 1e-3\n",
    "\n",
    "    def fit_linear_regression(self, X, Z, linreg_args = {}, validate=False, X_validation=None, Z_validation=None):\n",
    "        shuffle = True\n",
    "        validation_fraction = 0.3\n",
    "        if validate:\n",
    "            validation_fraction = X_validation.shape[0] / (X.shape[0] + X_validation.shape[0]) \n",
    "            X = np.concatenate((X,X_validation), axis=0)\n",
    "            Z = np.concatenate((Z,Z_validation))\n",
    "            shuffle = False\n",
    "        \n",
    "        X_ = self.LinearErasure.erase_concept(X)\n",
    "        coord_SigXZ = self.LinearErasure.get_coordinates(X, subspace='E_SigXZ')\n",
    "        for z in np.unique(Z): \n",
    "            linear_regression_mse = MLPRegressor(\n",
    "                hidden_layer_sizes=(), # linear\n",
    "                activation=\"identity\",\n",
    "                max_iter=5000,\n",
    "                solver='adam',\n",
    "                early_stopping=True,\n",
    "                validation_fraction=validation_fraction,\n",
    "                n_iter_no_change=100,\n",
    "                alpha=self.alpha,\n",
    "                learning_rate_init=self.lr,\n",
    "                random_state=self.random_state,\n",
    "                warm_start=True,\n",
    "                shuffle=shuffle\n",
    "            )\n",
    "            linear_regression_mse.set_params(**linreg_args)\n",
    "            linear_regression_mse.fit(X_[Z==z], coord_SigXZ[Z==z])\n",
    "            self.predictors[z] = linear_regression_mse\n",
    "        return True\n",
    "\n",
    "    def fit_gaussian_dispersion(self, X, Z):\n",
    "        X_ = self.LinearErasure.erase_concept(X)\n",
    "        coord_SigXZ = self.LinearErasure.get_coordinates(X, subspace='E_SigXZ')\n",
    "        # Calculate the noise variance per concept value\n",
    "        for z in np.unique(Z):\n",
    "            nu_X = self.predictors[z].predict(X_[Z==z])\n",
    "            noise = coord_SigXZ[Z==z] - nu_X\n",
    "            if noise.ndim == 1:\n",
    "                noise = noise.reshape(-1, 1)\n",
    "            gmm = GaussianMixture(n_components=1, covariance_type='full', max_iter=300)\n",
    "            gmm.fit(noise)\n",
    "            self.noises[z] = gmm\n",
    "        return True\n",
    "\n",
    "    def fit(self, X, Z, validate=False, X_validation=None, Z_validation=None):\n",
    "        self.fit_linear_regression(X, Z, validate=validate, X_validation=X_validation, Z_validation=Z_validation)\n",
    "        self.fit_gaussian_dispersion(X, Z)\n",
    "        return True\n",
    "    \n",
    "    def predict_nu(self, X, Z_assigned):\n",
    "        X_ = self.LinearErasure.erase_concept(X)\n",
    "        coord_SigXZ_predicted = np.empty((X.shape[0], self.LinearErasure.E_SigXZ.shape[0]))\n",
    "        for z in np.unique(Z_assigned):\n",
    "            indices = Z_assigned == z\n",
    "            predictions = self.predictors[z].predict(X_[indices])\n",
    "            if len(predictions.shape) < 2: # predictions must be a matrix with 2 dimensions\n",
    "                predictions = predictions[:,np.newaxis]\n",
    "            coord_SigXZ_predicted[indices] = predictions\n",
    "        X_SigXZ  = self.LinearErasure.to_vec(coord_SigXZ_predicted, subspace='E_SigXZ') \n",
    "        return X_ + X_SigXZ\n",
    "\n",
    "\n",
    "    def predict(self, X, Z_assigned, no_sampling = False):\n",
    "        X_n_nu = self.predict_nu(X, Z_assigned)\n",
    "        # Let's sample noise for each observation\n",
    "        if not no_sampling:\n",
    "            X_noises_sampled = np.empty(X.shape)\n",
    "            for z in np.unique(Z_assigned):\n",
    "                indices = Z_assigned == z\n",
    "                n_noises = np.sum(indices)\n",
    "                noises = self.noises[z].sample(n_noises)\n",
    "                X_noises_sampled[indices] = self.LinearErasure.to_vec(noises[0],subspace='E_SigXZ')\n",
    "            return X_n_nu + X_noises_sampled\n",
    "        else:\n",
    "            return X_n_nu\n",
    "        \n",
    "    def score(self, X, Z):\n",
    "        X_nu = self.predict(X, Z, no_sampling=True) \n",
    "        return np.mean(np.linalg.norm(X-X_nu, axis=1))\n",
    "\n",
    "    def sample_counterfactuals(self, X, z_value, no_sampling=False):\n",
    "        color = 'blue'\n",
    "        Z_assigned = np.full((X.shape[0],), z_value)\n",
    "        X_to_plot = self.predict(X, Z_assigned, no_sampling)\n",
    "        X_to_plot = self.LinearErasure.get_coordinates(X_to_plot, subspace='E_SigXZ')\n",
    "        if len(X_to_plot.shape) > 1 and X_to_plot.shape[1] == 2:\n",
    "            _ = pyplot.scatter(X_to_plot[:,0], X_to_plot[:,1], s=0.1, color=color)\n",
    "        elif len(X_to_plot.shape) == 1:\n",
    "            _ = pyplot.hist(X_to_plot[:,], bins=100, color=color)  \n",
    "    \n"
   ]
  },
  {
   "cell_type": "code",
   "execution_count": 103,
   "metadata": {},
   "outputs": [
    {
     "data": {
      "text/plain": [
       "True"
      ]
     },
     "execution_count": 103,
     "metadata": {},
     "output_type": "execute_result"
    }
   ],
   "source": [
    "LCVA_mse = LinearConceptValueAssignmentWithMSEloss(random_state=global_seed)\n",
    "LCVA_mse.LinearErasure = LinearErasure\n",
    "LCVA_mse.fit(X,Z, validate=True, X_validation=X_val, Z_validation=Z_val)"
   ]
  },
  {
   "cell_type": "code",
   "execution_count": 104,
   "metadata": {},
   "outputs": [
    {
     "name": "stdout",
     "output_type": "stream",
     "text": [
      "MSE (train):      0.0236\n",
      "MSE (validation): 0.0234\n",
      "MSE (test):       0.0248\n"
     ]
    }
   ],
   "source": [
    "print(\"MSE (train):     \", f\"{LCVA_mse.score(X, Z):.4f}\")\n",
    "print(\"MSE (validation):\", f\"{LCVA_mse.score(X_val, Z_val):.4f}\")\n",
    "print(\"MSE (test):      \", f\"{LCVA_mse.score(X_test, Z_test):.4f}\")\n"
   ]
  },
  {
   "cell_type": "code",
   "execution_count": 105,
   "metadata": {},
   "outputs": [
    {
     "data": {
      "image/png": "[encoded data removed]",
      "text/plain": [
       "<Figure size 640x480 with 1 Axes>"
      ]
     },
     "metadata": {},
     "output_type": "display_data"
    }
   ],
   "source": [
    "# Sample countefractuals and display them in V^{\\parallel}\n",
    "LCVA_mse.sample_counterfactuals(X, z_value=0, no_sampling=True)"
   ]
  },
  {
   "cell_type": "markdown",
   "metadata": {},
   "source": [
    "## Evaluations"
   ]
  },
  {
   "cell_type": "markdown",
   "metadata": {},
   "source": [
    "### Proximity of CFRs"
   ]
  },
  {
   "cell_type": "code",
   "execution_count": 106,
   "metadata": {},
   "outputs": [
    {
     "name": "stdout",
     "output_type": "stream",
     "text": [
      "dict_keys(['words', 'vecs'])\n",
      "(150000, 301)\n",
      "(150000,)\n"
     ]
    }
   ],
   "source": [
    "def load_glove_top50k(): \n",
    "    import pickle\n",
    "    data_folder = './datasets/glove-gender/'\n",
    "    # dataset = 'glove-gender'\n",
    "    # concept_to_erase = 'gender'\n",
    "\n",
    "    filename = f'glove-top-50k.pickle'\n",
    "\n",
    "    # Load the full data\n",
    "    with open(data_folder + filename, \"rb\") as f:\n",
    "        data_dict = pickle.load(f)\n",
    "        print(data_dict.keys())\n",
    "        # return None\n",
    "        \n",
    "        X = data_dict[\"vecs\"]\n",
    "        X = np.concatenate([X, np.ones((X.shape[0], 1))], axis=1)\n",
    "        words = data_dict[\"words\"]\n",
    "        \n",
    "    return X, words\n",
    "\n",
    "X50k, words50k = load_glove_top50k()\n",
    "words50k = np.array(words50k)\n",
    "print(X50k.shape)\n",
    "print(words50k.shape)"
   ]
  },
  {
   "cell_type": "code",
   "execution_count": 107,
   "metadata": {},
   "outputs": [
    {
     "name": "stdout",
     "output_type": "stream",
     "text": [
      "theologians\n",
      "-471\n",
      "thigh-high\n",
      "anglers\n",
      "watford\n",
      "field\n",
      "robina\n",
      "kelley\n",
      "jeanine\n",
      "army\n"
     ]
    }
   ],
   "source": [
    "import random\n",
    "for w in words_test[:10]:\n",
    "    print(w)"
   ]
  },
  {
   "cell_type": "code",
   "execution_count": 198,
   "metadata": {},
   "outputs": [
    {
     "name": "stdout",
     "output_type": "stream",
     "text": [
      "Original words are male-biased (20)\n",
      "cufflinks ---> ['earrings' 'necklace' 'necklaces' 'brooches' 'bracelet']\n",
      "spokesman ---> ['spokeswoman' 'chairwoman' 'publicist' 'susan' 'lisa']\n",
      "priests ---> ['priestesses' 'priestess' 'sisters' 'daughters' 'mothers']\n",
      "cowboys ---> ['cowgirls' 'cheerleaders' 'cheerleader' 'girls' 'ladies']\n",
      "lucifer ---> ['lilith' 'aphrodite' 'goddess' 'angelic' 'cordelia']\n",
      "apostle ---> ['magdalene' 'mary' 'pauline' 'catherine' 'sister']\n",
      "homosexual ---> ['lesbian' 'sexuality' 'transgender' 'sex' 'lesbians']\n",
      "garcon ---> ['fille' 'joli' 'meagan' 'lexie' 'petite']\n",
      "federer ---> ['sharapova' 'azarenka' 'clijsters' 'wozniacki' 'serena']\n",
      "jürgen ---> ['birgit' 'ulrike' 'renate' 'susanne' 'kerstin']\n",
      "heir ---> ['heiress' 'daughter' 'granddaughter' 'niece' 'daughters']\n",
      "he ---> ['she' 'her' 'girl' 'herself' 'woman']\n",
      "king ---> ['queen' 'princess' 'elizabeth' 'daughter' 'sister']\n",
      "demigods ---> ['goddesses' 'princesses' 'goddess' 'godess' 'vamps']\n",
      "sceptre ---> ['tiara' 'cassiopeia' 'athena' 'nefertiti' 'danae']\n",
      "napoleon ---> ['josephine' 'empress' 'antoinette' 'isabella' 'queen']\n",
      "henry ---> ['elizabeth' 'catherine' 'mary' 'jane' 'anne']\n",
      "man ---> ['woman' 'girl' 'she' 'lady' 'sexy']\n",
      "medvedev ---> ['tymoshenko' 'rousseff' 'svetlana' 'yulia' 'tatyana']\n",
      "charlemagne ---> ['empress' 'antoinette' 'clarisse' 'isabella' 'laure']\n"
     ]
    }
   ],
   "source": [
    "# Find the ids of some gender biased words\n",
    "words_complete = np.concatenate([words_train, words_val, words_test])\n",
    "X_complete = np.concatenate([X, X_val, X_test])\n",
    "Z_complete = np.concatenate([Z, Z_val, Z_test])\n",
    "X_CFR_complete = LCVA_mse.predict(X_complete, 1 - Z_complete, no_sampling=True)\n",
    "\n",
    "def find_closest(x_orig, x, X):\n",
    "    mse = np.sqrt(np.linalg.norm(X - x, axis=1)**2)\n",
    "    mse_orig = np.sqrt(np.linalg.norm(X - x_orig, axis=1)**2)\n",
    "    indices_min = np.argsort(mse)[:100]\n",
    "    indices_min = indices_min[mse[indices_min] < mse_orig[indices_min]]\n",
    "    return indices_min[:5]\n",
    "\n",
    "\n",
    "biased_words = [\"he\", \"man\", \"king\", \"heir\", \"henry\", \"jürgen\", \"napoleon\", \"federer\", \"apostle\", \"sceptre\", \"cufflinks\", \"priests\", \"demigods\", \"medvedev\", \"homosexual\", \"cowboys\", \"charlemagne\", \"lucifer\", \"spokesman\", \"garcon\"]\n",
    "print(\"Original words are male-biased\", f\"({len(biased_words)})\")\n",
    "indices_biased = np.in1d(words_complete, biased_words)\n",
    "ordered_words = words_complete[indices_biased]\n",
    "ordered_indices = np.argwhere(indices_biased)\n",
    "X_ordered_words = X_complete[indices_biased]\n",
    "X_CFRs_ordered_words = X_CFR_complete[indices_biased]\n",
    "for i in range(len(ordered_words)):\n",
    "    print(ordered_words[i], '--->', words_complete[find_closest(X_ordered_words[i], X_CFRs_ordered_words[i], X_complete)])\n",
    "\n"
   ]
  },
  {
   "cell_type": "code",
   "execution_count": 288,
   "metadata": {},
   "outputs": [
    {
     "name": "stdout",
     "output_type": "stream",
     "text": [
      "Original words are female-biased (20)\n",
      "cleopatra ---> ['caesar' 'julius' 'pharaoh' 'emperor' 'augustus']\n",
      "galadriel ---> ['gandalf' 'sauron' 'saruman' 'boromir' 'faramir']\n",
      "hairstyle ---> ['goatee' 'sideburns' 'clean-cut' 'should' 'he']\n",
      "woman ---> ['man' 'he' 'guy' 'who' 'him']\n",
      "sorceress ---> ['barbarian' 'sword' 'swordsman' 'cleric' 'warlord']\n",
      "gertrude ---> ['ernest' 'henry' 'albert' 'charles' 'harold']\n",
      "fille ---> ['fils' 'compte' 'père' 'garcon' 'par']\n",
      "maids ---> ['laborers' 'servant' 'plumbers' 'employed' 'employ']\n",
      "cowgirls ---> ['cowboys' 'broncos' 'mavericks' 'devils' 'mavs']\n",
      "madonna ---> ['jesus' 'judas' 'pope' 'saints' 'holy']\n",
      "dress ---> ['jersey' 'should' 'cap' 'game' 'he']\n",
      "she ---> ['he' 'him' 'his' 'who' 'himself']\n",
      "wifes ---> ['guys' 'guy' 'dependable' 'man' 'decent']\n",
      "girlish ---> ['effeminate' 'clean-cut' 'virile' 'affable' 'pugnacious']\n",
      "mini-skirt ---> ['jockstrap' 'hardhat' 'fullback' 'goatee' 'pinstripe']\n",
      "feminist ---> ['marxist' 'political' 'philosophical' 'socialist' 'discourse']\n",
      "daughters ---> ['sons' 'son' 'father' 'fathers' 'whom']\n",
      "shirley ---> ['smith' 'barry' 'charles' 'wallace' 'martin']\n",
      "chairwoman ---> ['chairman' 'vice-chairman' 'commissioner' 'spokesman' 'president']\n",
      "bridesmaid ---> ['groomsmen' 'groomsman' 'receptions' 'cufflinks' 'angelo']\n"
     ]
    }
   ],
   "source": [
    "biased_words = [\"she\", \"woman\", \"cowgirls\", \"dress\", \"shirley\", \"gertrude\", \"cleopatra\", \"galadriel\", \"feminist\", \"maids\", \"hairstyle\", \"girlish\", \"fille\", \"bridesmaid\", \"chairwoman\", \"mini-skirt\", \"wifes\", \"madonna\", \"sorceress\", \"daughters\"]\n",
    "print(\"Original words are female-biased\", f\"({len(biased_words)})\")\n",
    "indices_biased = np.in1d(words_complete, biased_words)\n",
    "ordered_words = words_complete[indices_biased]\n",
    "ordered_indices = np.argwhere(indices_biased)\n",
    "X_ordered_words = X_complete[indices_biased]\n",
    "X_CFRs_ordered_words = X_CFR_complete[indices_biased]\n",
    "for i in range(len(ordered_words)):\n",
    "    print(ordered_words[i], '--->', words_complete[find_closest(X_ordered_words[i] ,X_CFRs_ordered_words[i], X_complete)])"
   ]
  }
 ],
 "metadata": {
  "kernelspec": {
   "display_name": "base",
   "language": "python",
   "name": "python3"
  },
  "language_info": {
   "codemirror_mode": {
    "name": "ipython",
    "version": 3
   },
   "file_extension": ".py",
   "mimetype": "text/x-python",
   "name": "python",
   "nbconvert_exporter": "python",
   "pygments_lexer": "ipython3",
   "version": "3.10.9"
  }
 },
 "nbformat": 4,
 "nbformat_minor": 2
}

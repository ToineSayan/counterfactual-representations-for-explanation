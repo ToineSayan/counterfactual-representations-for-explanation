{
 "cells": [
  {
   "cell_type": "markdown",
   "metadata": {},
   "source": [
    "# Explaining Text Classifiers with Counterfactual Representations \n",
    "\n",
    "Dataset: BiasInBios with 'gender' as the manipulated concept (2 concept values)"
   ]
  },
  {
   "cell_type": "code",
   "execution_count": 1,
   "metadata": {},
   "outputs": [],
   "source": [
    "from concept_erasure import LeaceEraser, LeaceFitter\n",
    "import torch\n",
    "import numpy as np\n",
    "import scipy\n",
    "\n",
    "from sklearn.linear_model import SGDClassifier, LinearRegression\n",
    "from sklearn.neural_network import MLPClassifier,  MLPRegressor\n",
    "from sklearn.mixture import GaussianMixture\n",
    "from sklearn.model_selection import GridSearchCV\n",
    "\n",
    "\n",
    "from matplotlib import pyplot\n",
    "from matplotlib.ticker import FormatStrFormatter\n"
   ]
  },
  {
   "cell_type": "code",
   "execution_count": 2,
   "metadata": {},
   "outputs": [],
   "source": [
    "# Global parameters\n",
    "\n",
    "projection_method = 'orth' # 'orth' or 'leace' ('leace' is the oblique projection from Belrose et al., 2023, LEACE: Perfect linear concept erasure in closed form, NeurIPS 2023)\n",
    "global_seed = 42 # used for reproductibility\n",
    "rcond = 1e-5 # used for regressions \n",
    "\n",
    "dataset = 'biasbios'\n",
    "dataset = 'original' \n",
    "\n",
    "lin_cl_loss = 'log_loss'\n",
    "concept_manipulated = 'gender' # 'gender' or 'race'"
   ]
  },
  {
   "cell_type": "markdown",
   "metadata": {},
   "source": [
    "## LOADING DATA \n",
    "\n",
    "- Data is located in the dataset: *./datasets/EEEC/EEEC_3race/*\n",
    "- **bert** representations for each observations have been pre-calculated using **bert-base-uncased** model (via Huggingface library) and stored in a dictonnary of arrays *D.npz*"
   ]
  },
  {
   "cell_type": "markdown",
   "metadata": {},
   "source": [
    "## Loading train, validation and test data"
   ]
  },
  {
   "cell_type": "code",
   "execution_count": 3,
   "metadata": {},
   "outputs": [
    {
     "name": "stdout",
     "output_type": "stream",
     "text": [
      " \n",
      "Features:\n",
      "    d = 768\n",
      "Number of observations:\n",
      "    train: 255710\n",
      "    validation: 39369\n",
      "    test: 98344\n",
      "Z labels (protected concept levels): \n",
      "    k = 2 \n",
      "    mapping: {'f': 0, 'm': 1}\n",
      "    num_obs_train: {'f': 117588, 'm': 138122}\n",
      "    num_obs_validation: {'f': 18804, 'm': 20565}\n",
      "    num_obs_test: {'f': 45710, 'm': 52634}\n",
      "Y labels (downstream task): \n",
      "    m = 28\n",
      "    mapping: {'accountant': 0, 'architect': 1, 'attorney': 2, 'chiropractor': 3, 'comedian': 4, 'composer': 5, 'dentist': 6, 'dietitian': 7, 'dj': 8, 'filmmaker': 9, 'interior_designer': 10, 'journalist': 11, 'model': 12, 'nurse': 13, 'painter': 14, 'paralegal': 15, 'pastor': 16, 'personal_trainer': 17, 'photographer': 18, 'physician': 19, 'poet': 20, 'professor': 21, 'psychologist': 22, 'rapper': 23, 'software_engineer': 24, 'surgeon': 25, 'teacher': 26, 'yoga_teacher': 27}\n",
      "    num_obs_train: {'accountant': 3673, 'architect': 6573, 'attorney': 21194, 'chiropractor': 1688, 'comedian': 1819, 'composer': 3640, 'dentist': 9411, 'dietitian': 2585, 'dj': 965, 'filmmaker': 4555, 'interior_designer': 950, 'journalist': 12967, 'model': 4876, 'nurse': 12331, 'painter': 5028, 'paralegal': 1148, 'pastor': 1645, 'personal_trainer': 930, 'photographer': 15810, 'physician': 25067, 'poet': 4557, 'professor': 76771, 'psychologist': 11891, 'rapper': 914, 'software_engineer': 4488, 'surgeon': 8627, 'teacher': 10527, 'yoga_teacher': 1080}\n",
      "    num_obs_validation: {'accountant': 566, 'architect': 1012, 'attorney': 3262, 'chiropractor': 261, 'comedian': 281, 'composer': 560, 'dentist': 1449, 'dietitian': 399, 'dj': 149, 'filmmaker': 702, 'interior_designer': 148, 'journalist': 1996, 'model': 751, 'nurse': 1898, 'painter': 774, 'paralegal': 178, 'pastor': 254, 'personal_trainer': 144, 'photographer': 2433, 'physician': 3857, 'poet': 702, 'professor': 11812, 'psychologist': 1831, 'rapper': 142, 'software_engineer': 692, 'surgeon': 1328, 'teacher': 1620, 'yoga_teacher': 168}\n",
      "    num_obs_test: {'accountant': 1413, 'architect': 2528, 'attorney': 8151, 'chiropractor': 649, 'comedian': 699, 'composer': 1400, 'dentist': 3619, 'dietitian': 994, 'dj': 371, 'filmmaker': 1752, 'interior_designer': 365, 'journalist': 4987, 'model': 1875, 'nurse': 4742, 'painter': 1934, 'paralegal': 441, 'pastor': 633, 'personal_trainer': 358, 'photographer': 6081, 'physician': 9641, 'poet': 1752, 'professor': 29527, 'psychologist': 4573, 'rapper': 351, 'software_engineer': 1726, 'surgeon': 3318, 'teacher': 4049, 'yoga_teacher': 415}\n",
      "\n"
     ]
    }
   ],
   "source": [
    "base_dir = './datasets/biasbios/'\n",
    "\n",
    "\n",
    "# Load the original train, validation, test split\n",
    "with np.load(base_dir + f'D_{dataset}.npz') as balanced_data:\n",
    "    X, Z_raw, Y_raw = balanced_data['train_X'], balanced_data[f'train_Z_{concept_manipulated}'], balanced_data['train_Y']\n",
    "    X_test, Z_test_raw, Y_test_raw = balanced_data['test_X'], balanced_data[f'test_Z_{concept_manipulated}'], balanced_data['test_Y']\n",
    "    \n",
    "    X_val, Z_val_raw, Y_val_raw =  balanced_data['validation_X'], balanced_data[f'validation_Z_{concept_manipulated}'], balanced_data['validation_Y']\n",
    "\n",
    "\n",
    "n, d = X.shape # n: number of observations in the train set, d: number of features\n",
    "n_test, _ = X_test.shape # n_test: number of observations in the test set\n",
    "n_validation, _ = X_val.shape # n_validation: number of observations in the validation set\n",
    "z_values = sorted(np.unique(Z_raw)) # list of concept values\n",
    "k = len(z_values) # number of concept values\n",
    "y_values = sorted(np.unique(Y_raw)) # list of labels for the downstream task\n",
    "m = len(y_values) # number of labels for the downstream task\n",
    "\n",
    "z_label2id = {z_values[i]:i for i in range(len(z_values))}\n",
    "y_label2id = {y_values[i]:i for i in range(len(y_values))}\n",
    "\n",
    "Z = np.array([z_label2id[z] for z in Z_raw]).astype(int)\n",
    "Z_test = np.array([z_label2id[z] for z in Z_test_raw]).astype(int)\n",
    "Z_val = np.array([z_label2id[z] for z in Z_val_raw]).astype(int)\n",
    "Y = np.array([y_label2id[y] for y in Y_raw]).astype(int)\n",
    "Y_test = np.array([y_label2id[y] for y in Y_test_raw]).astype(int)\n",
    "Y_val =  np.array([y_label2id[y] for y in Y_val_raw]).astype(int)\n",
    "\n",
    "\n",
    "# Calculate the one hot version of Z\n",
    "def to_one_hot(A):\n",
    "        A_1hot = np.zeros((A.size, A.max()+1))\n",
    "        A_1hot[np.arange(A.size), A] = 1\n",
    "        return A_1hot\n",
    "Z_1hot = to_one_hot(Z)\n",
    "\n",
    "# calculate number of observations per value of Z and Y\n",
    "z_label2numobs_train = {z_values[i]:np.nonzero([Z==z_label2id[z_values[i]]])[0].shape[0] for i in range(len(z_values))}\n",
    "z_label2numobs_validation = {z_values[i]:np.nonzero([Z_val==z_label2id[z_values[i]]])[0].shape[0] for i in range(len(z_values))}\n",
    "z_label2numobs_test = {z_values[i]:np.nonzero([Z_test==z_label2id[z_values[i]]])[0].shape[0] for i in range(len(z_values))}\n",
    "y_label2numobs_train = {y_values[i]:np.nonzero([Y==y_label2id[y_values[i]]])[0].shape[0] for i in range(len(y_values))}\n",
    "y_label2numobs_validation = {y_values[i]:np.nonzero([Y_val==y_label2id[y_values[i]]])[0].shape[0] for i in range(len(y_values))}\n",
    "y_label2numobs_test = {y_values[i]:np.nonzero([Y_test==y_label2id[y_values[i]]])[0].shape[0] for i in range(len(y_values))}\n",
    "\n",
    "# Display dataset statistics:\n",
    "print(f''' \n",
    "Features:\n",
    "    d = {d}\n",
    "Number of observations:\n",
    "    train: {n}\n",
    "    validation: {n_validation}\n",
    "    test: {n_test}\n",
    "Z labels (protected concept levels): \n",
    "    k = {k} \n",
    "    mapping: {z_label2id.__str__()}\n",
    "    num_obs_train: {z_label2numobs_train.__str__()}\n",
    "    num_obs_validation: {z_label2numobs_validation.__str__()}\n",
    "    num_obs_test: {z_label2numobs_test.__str__()}\n",
    "Y labels (downstream task): \n",
    "    m = {m}\n",
    "    mapping: {y_label2id.__str__()}\n",
    "    num_obs_train: {y_label2numobs_train.__str__()}\n",
    "    num_obs_validation: {y_label2numobs_validation.__str__()}\n",
    "    num_obs_test: {y_label2numobs_test.__str__()}\n",
    "''')"
   ]
  },
  {
   "cell_type": "code",
   "execution_count": 4,
   "metadata": {},
   "outputs": [
    {
     "name": "stdout",
     "output_type": "stream",
     "text": [
      "p(y=accountant|z=f)=0.38\n",
      "p(y=accountant|z=m)=0.62\n",
      " \n",
      "p(y=architect|z=f)=0.25\n",
      "p(y=architect|z=m)=0.75\n",
      " \n",
      "p(y=attorney|z=f)=0.39\n",
      "p(y=attorney|z=m)=0.61\n",
      " \n",
      "p(y=chiropractor|z=f)=0.25\n",
      "p(y=chiropractor|z=m)=0.75\n",
      " \n",
      "p(y=comedian|z=f)=0.21\n",
      "p(y=comedian|z=m)=0.79\n",
      " \n",
      "p(y=composer|z=f)=0.17\n",
      "p(y=composer|z=m)=0.83\n",
      " \n",
      "p(y=dentist|z=f)=0.35\n",
      "p(y=dentist|z=m)=0.65\n",
      " \n",
      "p(y=dietitian|z=f)=0.93\n",
      "p(y=dietitian|z=m)=0.07\n",
      " \n",
      "p(y=dj|z=f)=0.15\n",
      "p(y=dj|z=m)=0.85\n",
      " \n",
      "p(y=filmmaker|z=f)=0.34\n",
      "p(y=filmmaker|z=m)=0.66\n",
      " \n",
      "p(y=interior_designer|z=f)=0.80\n",
      "p(y=interior_designer|z=m)=0.20\n",
      " \n",
      "p(y=journalist|z=f)=0.50\n",
      "p(y=journalist|z=m)=0.50\n",
      " \n",
      "p(y=model|z=f)=0.85\n",
      "p(y=model|z=m)=0.15\n",
      " \n",
      "p(y=nurse|z=f)=0.91\n",
      "p(y=nurse|z=m)=0.09\n",
      " \n",
      "p(y=painter|z=f)=0.46\n",
      "p(y=painter|z=m)=0.54\n",
      " \n",
      "p(y=paralegal|z=f)=0.85\n",
      "p(y=paralegal|z=m)=0.15\n",
      " \n",
      "p(y=pastor|z=f)=0.24\n",
      "p(y=pastor|z=m)=0.76\n",
      " \n",
      "p(y=personal_trainer|z=f)=0.47\n",
      "p(y=personal_trainer|z=m)=0.53\n",
      " \n",
      "p(y=photographer|z=f)=0.37\n",
      "p(y=photographer|z=m)=0.63\n",
      " \n",
      "p(y=physician|z=f)=0.43\n",
      "p(y=physician|z=m)=0.57\n",
      " \n",
      "p(y=poet|z=f)=0.50\n",
      "p(y=poet|z=m)=0.50\n",
      " \n",
      "p(y=professor|z=f)=0.46\n",
      "p(y=professor|z=m)=0.54\n",
      " \n",
      "p(y=psychologist|z=f)=0.63\n",
      "p(y=psychologist|z=m)=0.37\n",
      " \n",
      "p(y=rapper|z=f)=0.10\n",
      "p(y=rapper|z=m)=0.90\n",
      " \n",
      "p(y=software_engineer|z=f)=0.17\n",
      "p(y=software_engineer|z=m)=0.83\n",
      " \n",
      "p(y=surgeon|z=f)=0.14\n",
      "p(y=surgeon|z=m)=0.86\n",
      " \n",
      "p(y=teacher|z=f)=0.62\n",
      "p(y=teacher|z=m)=0.38\n",
      " \n",
      "p(y=yoga_teacher|z=f)=0.85\n",
      "p(y=yoga_teacher|z=m)=0.15\n",
      " \n"
     ]
    }
   ],
   "source": [
    "# Displaying correlations in the train set\n",
    "y_id2label = {int(v):k for k,v in y_label2id.items()}\n",
    "z_id2label = {int(v):k for k,v in z_label2id.items()}\n",
    "for i in np.unique(Y):\n",
    "    for j in np.unique(Z):\n",
    "        print(f\"p(y={y_id2label[i]}|z={z_id2label[j]})={sum(Z[Y==i]==j)/sum(Y==i):.2f}\")\n",
    "    print(' ')"
   ]
  },
  {
   "cell_type": "markdown",
   "metadata": {},
   "source": [
    "# Training linear classifiers"
   ]
  },
  {
   "cell_type": "markdown",
   "metadata": {},
   "source": [
    "$\\hat{Y}$: mood state classifier (POMS)\n",
    "\n",
    "$\\hat{Z}$: race classifier (3 values)"
   ]
  },
  {
   "cell_type": "markdown",
   "metadata": {},
   "source": [
    "Training a POMS linear classifier"
   ]
  },
  {
   "cell_type": "code",
   "execution_count": 6,
   "metadata": {},
   "outputs": [],
   "source": [
    "def linear_classifier(args, random_state=global_seed):\n",
    "    lcf = SGDClassifier(\n",
    "        loss=lin_cl_loss, validation_fraction=0.2, early_stopping=True, random_state=random_state, \n",
    "        penalty='l2', max_iter=5000, n_jobs=-1, learning_rate='optimal', warm_start=True, n_iter_no_change=200\n",
    "    )\n",
    "    lcf.set_params(**args)\n",
    "    return lcf"
   ]
  },
  {
   "cell_type": "markdown",
   "metadata": {},
   "source": [
    "### Training of $\\widehat{Y}$"
   ]
  },
  {
   "cell_type": "code",
   "execution_count": 135,
   "metadata": {},
   "outputs": [],
   "source": [
    "## Uncomment if you want to make a grid search\n",
    "#\n",
    "# eta_y = linear_classifier({'alpha': 1e-4})\n",
    "## parameters = {\n",
    "#     'alpha':[1e-3, 1e-4, 1e-5, 1e-6, 1e-7],\n",
    "# }\n",
    "# eta_y = GridSearchCV(eta_y, parameters)"
   ]
  },
  {
   "cell_type": "code",
   "execution_count": 7,
   "metadata": {},
   "outputs": [
    {
     "name": "stdout",
     "output_type": "stream",
     "text": [
      "Train accuracy: 81.66%\n",
      "Test accuracy:  79.32%\n"
     ]
    }
   ],
   "source": [
    "eta_y = linear_classifier({'alpha': 1e-4})\n",
    "eta_y.fit(X, Y)\n",
    "print(\"Train accuracy:\", f\"{100*eta_y.score(X, Y):.2f}%\")\n",
    "print(\"Test accuracy: \", f\"{100*eta_y.score(X_test, Y_test):.2f}%\") "
   ]
  },
  {
   "cell_type": "code",
   "execution_count": 11,
   "metadata": {},
   "outputs": [
    {
     "name": "stdout",
     "output_type": "stream",
     "text": [
      "Per value accuracy:\n",
      "\n",
      "label id label name           train acc. (%) test acc. (%)\n",
      "0        accountant           70.57          63.41        \n",
      "1        architect            63.32          52.49        \n",
      "2        attorney             90.13          86.85        \n",
      "3        chiropractor         51.07          22.50        \n",
      "4        comedian             80.92          74.96        \n",
      "5        composer             88.13          88.00        \n",
      "6        dentist              91.90          90.77        \n",
      "7        dietitian            78.84          67.91        \n",
      "8        dj                   72.64          68.73        \n",
      "9        filmmaker            80.29          78.94        \n",
      "10       interior_designer    49.05          53.97        \n",
      "11       journalist           77.89          76.84        \n",
      "12       model                79.57          69.87        \n",
      "13       nurse                76.58          77.94        \n",
      "14       painter              82.14          77.09        \n",
      "15       paralegal            22.39          17.23        \n",
      "16       pastor               64.13          56.24        \n",
      "17       personal_trainer     66.24          64.80        \n",
      "18       photographer         88.32          87.52        \n",
      "19       physician            83.49          90.24        \n",
      "20       poet                 79.55          76.31        \n",
      "21       professor            90.65          88.60        \n",
      "22       psychologist         68.77          60.62        \n",
      "23       rapper               80.63          80.34        \n",
      "24       software_engineer    67.96          70.16        \n",
      "25       surgeon              61.96          57.08        \n",
      "26       teacher              58.83          50.78        \n",
      "27       yoga_teacher         74.17          66.02        \n"
     ]
    }
   ],
   "source": [
    "print(\"Per value accuracy:\\n\")\n",
    "y_predicted = eta_y.predict(X)\n",
    "y_predicted_test = eta_y.predict(X_test)\n",
    "print(\"label id\", f\"{'label name':<20}\", \"train acc. (%)\", \"test acc. (%)\")\n",
    "for i in range(m):\n",
    "    acc_i = np.sum(y_predicted[Y == i] == i) / np.sum([Y == i])\n",
    "    acc_i_test = np.sum(y_predicted_test[Y_test == i] == i) / np.sum([Y_test == i])\n",
    "    print(f\"{i:<8}\",f\"{y_id2label[i]:<20}\", f\"{100*acc_i:<14.2f}\", f\"{100*acc_i_test:<13.2f}\")\n"
   ]
  },
  {
   "cell_type": "markdown",
   "metadata": {},
   "source": [
    "### Training of $\\widehat{Z}$"
   ]
  },
  {
   "cell_type": "code",
   "execution_count": 9,
   "metadata": {},
   "outputs": [],
   "source": [
    "## Uncomment if you want to make a grid search\n",
    "#\n",
    "# eta_z = linear_classifier({'alpha': 1e-5})\n",
    "# parameters = {\n",
    "#     'alpha':[1e-3, 1e-4, 1e-5, 1e-6, 1e-7],\n",
    "# }\n",
    "# eta_z = GridSearchCV(eta_y, parameters)"
   ]
  },
  {
   "cell_type": "code",
   "execution_count": 12,
   "metadata": {},
   "outputs": [
    {
     "name": "stdout",
     "output_type": "stream",
     "text": [
      "Train accuracy: 99.73%\n",
      "Test accuracy:  99.35%\n"
     ]
    }
   ],
   "source": [
    "eta_z = linear_classifier({'alpha': 1e-5})\n",
    "eta_z.fit(X, Z)\n",
    "print(\"Train accuracy:\", f\"{100*eta_z.score(X, Z):.2f}%\")\n",
    "print(\"Test accuracy: \", f\"{100*eta_z.score(X_test, Z_test):.2f}%\") "
   ]
  },
  {
   "cell_type": "code",
   "execution_count": 13,
   "metadata": {},
   "outputs": [
    {
     "name": "stdout",
     "output_type": "stream",
     "text": [
      "Per value accuracy:\n",
      "\n",
      "label id label name                train acc. (%) test acc. (%)\n",
      "0        f                         99.63          99.16        \n",
      "1        m                         99.81          99.51        \n"
     ]
    }
   ],
   "source": [
    "print(\"Per value accuracy:\\n\")\n",
    "z_predicted = eta_z.predict(X)\n",
    "z_predicted_test = eta_z.predict(X_test)\n",
    "print(\"label id\", f\"{'label name':<25}\", \"train acc. (%)\", \"test acc. (%)\")\n",
    "for i in range(k):\n",
    "    acc_i = np.sum(z_predicted[Z == i] == i) / np.sum([Z == i])\n",
    "    acc_i_test = np.sum(z_predicted_test[Z_test == i] == i) / np.sum([Z_test == i])\n",
    "    print(f\"{i:<8}\",f\"{z_id2label[i]:<25}\", f\"{100*acc_i:<14.2f}\", f\"{100*acc_i_test:<13.2f}\")"
   ]
  },
  {
   "cell_type": "markdown",
   "metadata": {},
   "source": [
    "### Training a non-linear classifier (2-layer MLP) on X"
   ]
  },
  {
   "cell_type": "code",
   "execution_count": 18,
   "metadata": {},
   "outputs": [],
   "source": [
    "mlpclf_y = MLPClassifier(hidden_layer_sizes=(100, 100), random_state=global_seed, max_iter=300, early_stopping=True).fit(X, Y)\n",
    "print(\"Train accuracy:\", f\"{100*mlpclf_y.score(X, Y):.2f}%\")\n",
    "print(\"Test accuracy: \", f\"{100*mlpclf_y.score(X_test, Y_test):.2f}%\") # reminder: train is aggressive, test is balanced"
   ]
  },
  {
   "cell_type": "markdown",
   "metadata": {},
   "source": [
    "## Concept Erasure\n",
    "\n",
    "Concept to erase: gender (2 values)\\\n",
    "Erasure method: orthogonal projection on $V^\\perp$ (by default) or LEACE oblique projection on $V^\\perp$ "
   ]
  },
  {
   "cell_type": "markdown",
   "metadata": {},
   "source": [
    "### Erasure"
   ]
  },
  {
   "cell_type": "code",
   "execution_count": 14,
   "metadata": {},
   "outputs": [],
   "source": [
    "class Erasure:\n",
    "    \n",
    "    def __init__(self, projection='orth', rcond=1e-5):\n",
    "        \"\"\"\n",
    "        Parameters: \n",
    "        projection (str): 'orth' for an orthogonal projection, 'leace' for an oblique projection using the LEACE projector\n",
    "        rcond (str): linalg rcond coef\n",
    "        \"\"\"\n",
    "        self.rcond = rcond\n",
    "        self.projection = projection\n",
    "        self.P = None\n",
    "        self.SigXZ = None\n",
    "        self.E_SigXZ = None\n",
    "        self.E_P = None\n",
    "    \n",
    "    def fit(self, X, Z_1hot):\n",
    "        self.SigXZ = LeaceFitter.fit(\n",
    "            torch.Tensor(X),\n",
    "            torch.Tensor(Z_1hot)\n",
    "        ).sigma_xz.numpy()\n",
    "        self.E_SigXZ = scipy.linalg.orth(self.SigXZ, rcond=self.rcond).T\n",
    "\n",
    "        if self.projection == 'leace':\n",
    "            self.P = LeaceEraser.fit(\n",
    "                torch.Tensor(X),\n",
    "                torch.Tensor(Z_1hot)                    \n",
    "        ).P.numpy()\n",
    "        else:\n",
    "            # I - A (A.T A)^-1 A.T\n",
    "            self.P = np.eye(self.SigXZ.shape[0]) - self.E_SigXZ.T @ np.linalg.inv(self.E_SigXZ @ self.E_SigXZ.T) @ self.E_SigXZ\n",
    "        self.E_P = scipy.linalg.orth(self.P, rcond=self.rcond).T\n",
    "    \n",
    "    def erase_concept(self, X):\n",
    "        return X @ self.P.T\n",
    "    \n",
    "    def to_vec(self, coordinates, subspace):\n",
    "        E_subspace = self.E_P if subspace == 'E_P' else self.E_SigXZ\n",
    "        if len(coordinates.shape) < 2:\n",
    "            return coordinates[:,np.newaxis] @ E_subspace\n",
    "        else:\n",
    "            return coordinates @ E_subspace\n",
    "    \n",
    "    def get_coordinates(self, X, subspace):\n",
    "        E_subspace = self.E_P if subspace == 'E_P' else self.E_SigXZ\n",
    "        if self.projection == 'leace':\n",
    "            return (X - X @ self.P.T) @ E_subspace.T.squeeze()\n",
    "        else:\n",
    "            return X @ E_subspace.T.squeeze()\n"
   ]
  },
  {
   "cell_type": "code",
   "execution_count": 15,
   "metadata": {},
   "outputs": [
    {
     "name": "stdout",
     "output_type": "stream",
     "text": [
      "Rank of colsp(Sigma_XZ): 1 \t(sanity check: must be equal to k-1 = 1)\n",
      "Rank of colsp(P):        767 \t(sanity check: must be equal to d-k+1 = 767)\n"
     ]
    }
   ],
   "source": [
    "LinearErasure = Erasure(projection=projection_method, rcond=rcond)\n",
    "LinearErasure.fit(X, Z_1hot)\n",
    "print(\"Rank of colsp(Sigma_XZ):\", LinearErasure.E_SigXZ.shape[0], f\"\\t(sanity check: must be equal to k-1 = {k-1})\")\n",
    "print(\"Rank of colsp(P):       \", LinearErasure.E_P.shape[0], f\"\\t(sanity check: must be equal to d-k+1 = {d-k+1})\")"
   ]
  },
  {
   "cell_type": "markdown",
   "metadata": {},
   "source": [
    "### Evaluation of the linear erasure"
   ]
  },
  {
   "cell_type": "code",
   "execution_count": 16,
   "metadata": {},
   "outputs": [
    {
     "name": "stdout",
     "output_type": "stream",
     "text": [
      "Accuracy of a linear classifier trained to predict Z from X_orth:\n",
      "Train accuracy: 54.02%\n",
      "Test accuracy:  53.52% \t(must be approx. 50.00%)\n",
      "\n"
     ]
    }
   ],
   "source": [
    "X_ = LinearErasure.erase_concept(X)\n",
    "X_test_ = LinearErasure.erase_concept(X_test)\n",
    "\n",
    "# Check that predicting linearly Z from X_ leads to bad results (concept has been erased linearly)\n",
    "sgdclass = linear_classifier({'alpha': 1e-4}).fit(X_, Z)\n",
    "print(f\"Accuracy of a linear classifier trained to predict Z from X_orth:\")\n",
    "print(\"Train accuracy:\", f\"{100*sgdclass.score(X_,Z):.2f}%\")\n",
    "print(\"Test accuracy: \", f\"{100*sgdclass.score(X_test_, Z_test):.2f}%\", f\"\\t(must be approx. {100/k:.2f}%)\\n\") \n"
   ]
  },
  {
   "cell_type": "code",
   "execution_count": 17,
   "metadata": {},
   "outputs": [],
   "source": [
    "# Check if a non-linear classifier can predict accurately Z from X_\n",
    "mlpclf = MLPClassifier(random_state=global_seed, max_iter=300, early_stopping=True).fit(X_, Z)\n",
    "print(f\"Accuracy of a non-linear classifier (2-layer MLP) trained to predict Z from X_orth:\")\n",
    "print(\"Train accuracy:\", f\"{100*mlpclf.score(X_,Z):.2f}%\")\n",
    "print(\"Test accuracy: \", f\"{100*mlpclf.score(X_test_, Z_test):.2f}%\", f\"\\t(>> {100/k:.2f}%))\")"
   ]
  },
  {
   "cell_type": "markdown",
   "metadata": {},
   "source": [
    "# Plot the data"
   ]
  },
  {
   "cell_type": "code",
   "execution_count": 19,
   "metadata": {},
   "outputs": [
    {
     "data": {
      "image/png": "[encoded data removed]",
      "text/plain": [
       "<Figure size 640x480 with 1 Axes>"
      ]
     },
     "metadata": {},
     "output_type": "display_data"
    }
   ],
   "source": [
    "# Plot\n",
    "\n",
    "# need to add the case where v[0] == 0\n",
    "def vect_to_equation(v, x, intercept_x = 0):\n",
    "    y = v[1] / v[0] * (x - intercept_x) \n",
    "    return y\n",
    "\n",
    "lambda_SigXZ = LinearErasure.get_coordinates(X, subspace='E_SigXZ')\n",
    "mean_lambda = np.mean(lambda_SigXZ)\n",
    "\n",
    "colors = ['pink', 'cyan']\n",
    "\n",
    "# Plot the training data points \n",
    "for z in np.unique(Z):\n",
    "    indices = Z == z\n",
    "    X_SigXZ_z = lambda_SigXZ[indices]\n",
    "    _ = pyplot.hist(X_SigXZ_z, bins=100, label=f'z = {z} ({z_id2label[z]})', color=colors[z])\n",
    "\n",
    "_ = pyplot.title('Train set projected onto colsp(Sigma_XZ)')\n",
    "_ = pyplot.legend()\n"
   ]
  },
  {
   "cell_type": "markdown",
   "metadata": {},
   "source": [
    "# Linear reconstruction of $x^\\parallel$ with a MSE loss objective"
   ]
  },
  {
   "cell_type": "code",
   "execution_count": 20,
   "metadata": {},
   "outputs": [],
   "source": [
    "# To improve\n",
    "# - don't use LEACE library to calculate Sigma_XZ and the LEACE projector\n",
    "\n",
    "class LinearConceptValueAssignmentWithMSEloss:\n",
    "\n",
    "    def __init__(self, random_state=global_seed, rcond=rcond):\n",
    "        self.predictors = {}\n",
    "        self.noises = {}\n",
    "        self.LinearErasure = Erasure() # P and Sigma_XZ in it\n",
    "        self.random_state = random_state\n",
    "        self.alpha = 5e-2 #orth\n",
    "        # self.alpha = 1e-4 #leace\n",
    "        self.lr = 1e-3\n",
    "\n",
    "    def fit_linear_regression(self, X, Z, linreg_args = {}, validate=False, X_validation=None, Z_validation=None):\n",
    "        shuffle = True\n",
    "        validation_fraction = 0.3\n",
    "        if validate:\n",
    "            validation_fraction = X_validation.shape[0] / (X.shape[0] + X_validation.shape[0]) \n",
    "            X = np.concatenate((X,X_validation), axis=0)\n",
    "            Z = np.concatenate((Z,Z_validation))\n",
    "            shuffle = False\n",
    "        \n",
    "        X_ = self.LinearErasure.erase_concept(X)\n",
    "        coord_SigXZ = self.LinearErasure.get_coordinates(X, subspace='E_SigXZ')\n",
    "        for z in np.unique(Z): \n",
    "            linear_regression_mse = MLPRegressor(\n",
    "                hidden_layer_sizes=(), # linear\n",
    "                activation=\"identity\",\n",
    "                max_iter=5000,\n",
    "                solver='adam',\n",
    "                early_stopping=True,\n",
    "                validation_fraction=validation_fraction,\n",
    "                n_iter_no_change=100,\n",
    "                alpha=self.alpha,\n",
    "                learning_rate_init=self.lr,\n",
    "                random_state=self.random_state,\n",
    "                warm_start=True,\n",
    "                shuffle=shuffle\n",
    "            )\n",
    "            linear_regression_mse.set_params(**linreg_args)\n",
    "            linear_regression_mse.fit(X_[Z==z], coord_SigXZ[Z==z])\n",
    "            self.predictors[z] = linear_regression_mse\n",
    "        return True\n",
    "\n",
    "    def fit_gaussian_dispersion(self, X, Z):\n",
    "        X_ = self.LinearErasure.erase_concept(X)\n",
    "        coord_SigXZ = self.LinearErasure.get_coordinates(X, subspace='E_SigXZ')\n",
    "        # Calculate the noise variance per concept value\n",
    "        for z in np.unique(Z):\n",
    "            nu_X = self.predictors[z].predict(X_[Z==z])\n",
    "            noise = coord_SigXZ[Z==z] - nu_X\n",
    "            if noise.ndim == 1:\n",
    "                noise = noise.reshape(-1, 1)\n",
    "            gmm = GaussianMixture(n_components=1, covariance_type='full', max_iter=300)\n",
    "            gmm.fit(noise)\n",
    "            self.noises[z] = gmm\n",
    "        return True\n",
    "\n",
    "    def fit(self, X, Z, validate=False, X_validation=None, Z_validation=None):\n",
    "        self.fit_linear_regression(X, Z, validate=validate, X_validation=X_validation, Z_validation=Z_validation)\n",
    "        self.fit_gaussian_dispersion(X, Z)\n",
    "        return True\n",
    "    \n",
    "    def predict_nu(self, X, Z_assigned):\n",
    "        X_ = self.LinearErasure.erase_concept(X)\n",
    "        coord_SigXZ_predicted = np.empty((X.shape[0], self.LinearErasure.E_SigXZ.shape[0]))\n",
    "        for z in np.unique(Z_assigned):\n",
    "            indices = Z_assigned == z\n",
    "            predictions = self.predictors[z].predict(X_[indices])\n",
    "            if len(predictions.shape) < 2: # predictions must be a matrix with 2 dimensions\n",
    "                predictions = predictions[:,np.newaxis]\n",
    "            coord_SigXZ_predicted[indices] = predictions\n",
    "        X_SigXZ  = self.LinearErasure.to_vec(coord_SigXZ_predicted, subspace='E_SigXZ') \n",
    "        return X_ + X_SigXZ\n",
    "\n",
    "\n",
    "    def predict(self, X, Z_assigned, no_sampling = False):\n",
    "        X_n_nu = self.predict_nu(X, Z_assigned)\n",
    "        # Let's sample noise for each observation\n",
    "        if not no_sampling:\n",
    "            X_noises_sampled = np.empty(X.shape)\n",
    "            for z in np.unique(Z_assigned):\n",
    "                indices = Z_assigned == z\n",
    "                n_noises = np.sum(indices)\n",
    "                noises = self.noises[z].sample(n_noises)\n",
    "                X_noises_sampled[indices] = self.LinearErasure.to_vec(noises[0],subspace='E_SigXZ')\n",
    "            return X_n_nu + X_noises_sampled\n",
    "        else:\n",
    "            return X_n_nu\n",
    "        \n",
    "    def score(self, X, Z):\n",
    "        X_nu = self.predict(X, Z, no_sampling=True) \n",
    "        return np.mean(np.linalg.norm(X-X_nu, axis=1))\n",
    "\n",
    "    def sample_counterfactuals(self, X, z_value, no_sampling=False):\n",
    "        color = 'blue'\n",
    "        Z_assigned = np.full((X.shape[0],), z_value)\n",
    "        X_to_plot = self.predict(X, Z_assigned, no_sampling)\n",
    "        X_to_plot = self.LinearErasure.get_coordinates(X_to_plot, subspace='E_SigXZ')\n",
    "        if len(X_to_plot.shape) > 1 and X_to_plot.shape[1] == 2:\n",
    "            _ = pyplot.scatter(X_to_plot[:,0], X_to_plot[:,1], s=0.1, color=color)\n",
    "        elif len(X_to_plot.shape) == 1:\n",
    "            _ = pyplot.hist(X_to_plot[:,], bins=100, color=color)  \n",
    "    \n"
   ]
  },
  {
   "cell_type": "code",
   "execution_count": 21,
   "metadata": {},
   "outputs": [
    {
     "data": {
      "text/plain": [
       "True"
      ]
     },
     "execution_count": 21,
     "metadata": {},
     "output_type": "execute_result"
    }
   ],
   "source": [
    "LCVA_mse = LinearConceptValueAssignmentWithMSEloss(random_state=global_seed)\n",
    "LCVA_mse.LinearErasure = LinearErasure\n",
    "LCVA_mse.fit(X,Z, validate=True, X_validation=X_val, Z_validation=Z_val)"
   ]
  },
  {
   "cell_type": "code",
   "execution_count": 22,
   "metadata": {},
   "outputs": [
    {
     "name": "stdout",
     "output_type": "stream",
     "text": [
      "MSE (train):      0.1366\n",
      "MSE (validation): 0.1388\n",
      "MSE (test):       0.1504\n"
     ]
    }
   ],
   "source": [
    "print(\"MSE (train):     \", f\"{LCVA_mse.score(X, Z):.4f}\")\n",
    "print(\"MSE (validation):\", f\"{LCVA_mse.score(X_val, Z_val):.4f}\")\n",
    "print(\"MSE (test):      \", f\"{LCVA_mse.score(X_test, Z_test):.4f}\")\n"
   ]
  },
  {
   "cell_type": "code",
   "execution_count": 24,
   "metadata": {},
   "outputs": [
    {
     "data": {
      "image/png": "[encoded data removed]",
      "text/plain": [
       "<Figure size 640x480 with 1 Axes>"
      ]
     },
     "metadata": {},
     "output_type": "display_data"
    }
   ],
   "source": [
    "# Sample countefractuals and display them in V^{\\parallel}\n",
    "LCVA_mse.sample_counterfactuals(X, z_value=0, no_sampling=True)"
   ]
  },
  {
   "cell_type": "markdown",
   "metadata": {},
   "source": [
    "## Evaluations"
   ]
  },
  {
   "cell_type": "markdown",
   "metadata": {},
   "source": [
    "### $\\mathrm{PIP}$ and $\\mathrm{ATV}$\n",
    "\n"
   ]
  },
  {
   "cell_type": "markdown",
   "metadata": {},
   "source": [
    "From the paper:\n",
    "\n",
    "Let $\\mathcal{S}:=\\{(s_i,z_i)\\}$ be a set of couples of text documents $s_i$ and of CF values $z_i\\neq Z(s_i)$. Define the proportion of identical predictions ($\\mathrm{PIP}$) by\n",
    "\n",
    "$$\\mathrm{PIP}_{\\widehat{Y}}[\\mathcal{S}]:=  \\frac{1}{|\\mathcal{S}|} \\sum_{(s,z)\\in\\mathcal{S}} \\mathbf{1}\\left[\\widehat{Y}(X(s_{Z\\leftarrow z})) = \\widehat{Y}(X(s)_{Z\\leftarrow z})\\right].$$\n",
    "\n",
    "The range of the \\noindent $\\mathrm{PIP}$ metric is $[0,1]$, closer to $1$ being better. Similarly, we define $\\mathrm{PIP}_{\\widehat{Z}}[\\mathcal{S}]$.\n",
    "\n",
    "Let $p_{\\widehat{Y}}(x)$ be the probability distribution over $Y$-values used by the classifier $\\widehat{Y}$. Define the average total variation (ATV) distance by\n",
    "\n",
    "$$\\mathrm{ATV}_{\\widehat{Y}}[\\mathcal{S}]:= \\frac{1}{|\\mathcal{S}|} \\sum_{(s,z)\\in\\mathcal{S}}\\underbrace{\\frac{1}{2}\\big|p_{\\widehat{Y}}(X(s_{Z\\leftarrow z}))-p_{\\widehat{Y}}(X(s)_{Z\\leftarrow z})\\big|}_{=:\\,\\mathrm{TV}_{\\widehat{Y}}(s,z)}.$$ \n",
    "\n",
    "The range of the $\\mathrm{ATV}$ metric is $[0,1]$, closer to $0$ being better. Similarly, we define $\\mathrm{ATV}_{\\widehat{Z}}[\\mathcal{S}]$.\n"
   ]
  },
  {
   "cell_type": "markdown",
   "metadata": {},
   "source": [
    "### $\\mathrm{ATE}$ and $\\widehat{\\mathrm{ATE}}$"
   ]
  },
  {
   "cell_type": "markdown",
   "metadata": {},
   "source": [
    "From the paper:\n",
    "\n",
    "Let's thus define the average treatment effect $\\mathrm{ATE}_{\\widehat{Y}}$, its estimator $\\widehat{\\mathrm{ATE}}_{\\widehat{Y}}$ defined using the CFRs and the corresponding individual effects\n",
    "\n",
    "$$\\mathrm{ATE}_{\\widehat{Y}}[\\mathcal{S}]:=\\frac{1}{|\\mathcal{S}|}\\sum_{(s,z)\\in\\mathcal{S}}\\underbrace{\\frac{1}{2}\\big|p_{\\widehat{Y}}(X(s_{Z\\leftarrow z})- p_{\\widehat{Y}}(X(s))\\big|}_{=:\\,\\mathrm{TE}_{\\widehat{Y}}(s,z)} ,$$\n",
    "\n",
    "$$\\widehat{\\mathrm{ATE}}_{\\widehat{Y}}[\\mathcal{S}] := \\frac{1}{|\\mathcal{S}|}\\sum_{(s,z)\\in\\mathcal{S}} \\underbrace{\\frac{1}{2}\\big|p_{\\widehat{Y}}(X(s)_{Z\\leftarrow z}- p_{\\widehat{Y}}(X(s))\\big|}_{=:\\,\\widehat{\\mathrm{TE}}_{\\widehat{Y}}(s,z)}.$$\n",
    "\n",
    "The large braces define the individual treatment effects $\\mathrm{TE}_{\\widehat{Y}}(s,z)$ and their estimations $\\widehat{\\mathrm{TE}}_{\\widehat{Y}}(s,z)$."
   ]
  },
  {
   "cell_type": "markdown",
   "metadata": {},
   "source": [
    "## Evaluating a counterfactual predictor"
   ]
  },
  {
   "cell_type": "code",
   "execution_count": 25,
   "metadata": {},
   "outputs": [],
   "source": [
    "class CounterfactualClassifier:\n",
    "    \n",
    "    def __init__(self, clf, cf_generator, random_state=42):\n",
    "        self.clf = clf # a classifier \n",
    "        self.cf_generator = cf_generator # a countrefactual generator\n",
    "    \n",
    "\n",
    "    def cf_predict(self, X, Z_assigned, num_cf=20, no_sampling=False):\n",
    "        \"\"\"\n",
    "        Predicts values using the self.clf classifier from CFRs generated \n",
    "        from observations and values of the manipulated attribute to be assigned.\n",
    "\n",
    "        Parameters\n",
    "        ----------\n",
    "        X: ndarray of shape (n_samples, n_features)\n",
    "            Original data representations.\n",
    "\n",
    "        Z_assigned: ndarray of shape (n_samples,)\n",
    "            Counterfactual values of the manipulated attribute to assign.\n",
    "\n",
    "        num_cf: int (default: 20)\n",
    "            Number of counterfactuals to sample when CFRs are considered stochastic.\n",
    "        \n",
    "        no_sampling: bool (default: False)\n",
    "            if True CFRs are deterministic, else CFRs are considered stochastic.\n",
    "\n",
    "        Returns\n",
    "        -------\n",
    "        y: ndarray of shape (n_samples,)\n",
    "            Predictions \n",
    "        \"\"\"\n",
    "        y_probs_avg = self.cf_predict_proba(X, Z_assigned, num_cf, no_sampling)\n",
    "        y = np.argmax(y_probs_avg, axis=1)\n",
    "        return y\n",
    "\n",
    "\n",
    "    def cf_predict_proba(self, X, Z_assigned, num_cf=20, no_sampling=False):\n",
    "        \"\"\"\n",
    "        Predicts probabilities over Y-values using the local classifier from CFRs generated \n",
    "        from observations and values of the manipulated attribute to be assigned.\n",
    "\n",
    "        Parameters\n",
    "        ----------\n",
    "        X: ndarray of shape (n_samples, n_features)\n",
    "            Original data representations.\n",
    "\n",
    "        Z_assigned: ndarray of shape (n_samples,)\n",
    "            Counterfactual values of the manipulated attribute to assign.\n",
    "\n",
    "        num_cf: int (default: 20)\n",
    "            Number of counterfactuals to sample when CFRs are considered stochastic.\n",
    "        \n",
    "        no_sampling: bool (default: False)\n",
    "            if True CFRs are deterministic, else CFRs are considered stochastic.\n",
    "\n",
    "        Returns\n",
    "        -------\n",
    "        y: ndarray of shape (n_samples, n_classes)\n",
    "            Probability distributions over Y-values \n",
    "        \"\"\"\n",
    "        y_probs_avg = np.zeros((X.shape[0], self.clf.classes_.shape[0]))\n",
    "        if no_sampling:\n",
    "            num_cf = 1 \n",
    "        for _ in range(num_cf):\n",
    "            X_sampled= self.cf_generator.predict(X, Z_assigned, no_sampling=no_sampling)\n",
    "            y_probs = self.clf.predict_proba(X_sampled)\n",
    "            y_probs_avg += y_probs\n",
    "        return (1/num_cf)*y_probs_avg\n",
    "    \n",
    "    def orig_score(self, X, Y):\n",
    "        return self.clf.score(X, Y)\n",
    "    \n",
    "    def orig_predict(self, X):\n",
    "        return self.clf.predict(X)\n",
    "    \n",
    "    def orig_predict_proba(self, X):\n",
    "        return self.clf.predict_proba(X)\n",
    "\n",
    "\n",
    "    def evaluate(self, X, Y, X_CF=None, Z_CF=None, Y_CF=None, use_counterfactuals=False):\n",
    "    \n",
    "        results = dict()\n",
    "        y = self.orig_predict(X)\n",
    "        results[\"Accuracy\"] = self.orig_score(X,Y)\n",
    "        \n",
    "        # PIP calculations\n",
    "        if use_counterfactuals:\n",
    "            results[\"Accuracy using CFs\"] = self.orig_score(X_CF,Y_CF)\n",
    "            y_cf = self.orig_predict(X_CF) \n",
    "            y_cf_fict_nu_only = self.cf_predict(X, Z_CF, no_sampling=True)\n",
    "            y_cf_fict_w_sampling = self.cf_predict(X, Z_CF, no_sampling=False)\n",
    "            results[\"PIP (CFRs deterministic)\"] = np.mean(y_cf == y_cf_fict_nu_only)\n",
    "            results[\"PIP (CFRs stochastic)\"] = np.mean(y_cf == y_cf_fict_w_sampling)\n",
    "\n",
    "\n",
    "        # ATE calculations\n",
    "        ATE = lambda a, b : 0.5*np.mean(np.sum(np.abs(a - b), axis = 1))\n",
    "        y_cf_fict_probs = self.cf_predict_proba(X, Z_CF, no_sampling=True) # p( X(s)_{Z<-z} )\n",
    "        y_probs = self.orig_predict_proba(X) # p(X(s))\n",
    "        results[\"ATE estimation\"] = ATE(y_probs, y_cf_fict_probs) # Estimation of the ATE\n",
    "        if use_counterfactuals:\n",
    "            y_cf_probs = self.orig_predict_proba(X_CF) # p( X( s_{Z<-z} ) )\n",
    "            results[\"ATE\"] = ATE(y_probs, y_cf_probs) # real observations if CFs available\n",
    "            results[\"ATV\"] = ATE(y_cf_probs, y_cf_fict_probs)\n",
    "        return results\n",
    "        \n",
    "        \n"
   ]
  },
  {
   "cell_type": "code",
   "execution_count": 28,
   "metadata": {},
   "outputs": [],
   "source": [
    "Z_CF_test = 1 - Z_test # swapping of the values"
   ]
  },
  {
   "cell_type": "code",
   "execution_count": 29,
   "metadata": {},
   "outputs": [],
   "source": [
    "cf_clf_y = CounterfactualClassifier(eta_y, LCVA_mse)\n",
    "results_eta_y = cf_clf_y.evaluate(X_test, Y_test, Z_CF=Z_CF_test, use_counterfactuals=False) # CFs are unavailable for this dataset"
   ]
  },
  {
   "cell_type": "code",
   "execution_count": 30,
   "metadata": {},
   "outputs": [
    {
     "name": "stdout",
     "output_type": "stream",
     "text": [
      "Accuracy                  0.7931546408525177  \n",
      "ATE estimation            0.08838598804828741 \n"
     ]
    }
   ],
   "source": [
    "for key,value in results_eta_y.items():\n",
    "    print(f\"{key:<25} {value:<20}\")"
   ]
  },
  {
   "cell_type": "code",
   "execution_count": 31,
   "metadata": {},
   "outputs": [],
   "source": [
    "cf_clf_z = CounterfactualClassifier(eta_z, LCVA_mse)\n",
    "results_eta_z = cf_clf_z.evaluate(X_test, Z_test, Z_CF=Z_CF_test, use_counterfactuals=False) # CFs are unavailable for this dataset"
   ]
  },
  {
   "cell_type": "code",
   "execution_count": 32,
   "metadata": {},
   "outputs": [
    {
     "name": "stdout",
     "output_type": "stream",
     "text": [
      "Accuracy                  0.9934820629626617  \n",
      "ATE estimation            0.9772865798322578  \n"
     ]
    }
   ],
   "source": [
    "for key,value in results_eta_z.items():\n",
    "    print(f\"{key:<25} {value:<20}\")"
   ]
  },
  {
   "cell_type": "markdown",
   "metadata": {},
   "source": [
    "## Data augmentation for bias mitigation"
   ]
  },
  {
   "cell_type": "markdown",
   "metadata": {},
   "source": [
    "### TPR-GAP (De-Arteaga et al, 2019)"
   ]
  },
  {
   "cell_type": "markdown",
   "metadata": {},
   "source": [
    "From the paper: \n",
    "\n",
    "$$\\mathrm{TPR}\\text{-Gap}_{z,y} := P[\\widehat{Y} = y|Z=z, Y=y] - P[\\widehat{Y} = y|Z=\\bar{z}, Y=y]$$\n",
    "\n"
   ]
  },
  {
   "cell_type": "code",
   "execution_count": 33,
   "metadata": {},
   "outputs": [],
   "source": [
    "def TPR_Gaps(eta, X, Z, Y, ref_z_val, compared_z_val):\n",
    "    \"\"\" \n",
    "    Calculate the TPR-Gaps for a z, compared to the counterfactual value z'\n",
    "    for each Y-value   \n",
    "    \"\"\"\n",
    "    y = eta.predict(X) # model predictions\n",
    "    filter_z_val = lambda z_val: Z == z_val # filter on Z values\n",
    "    filter_y_val = lambda y_val: Y == y_val # filter on True Y predictions\n",
    "\n",
    "    TPR_Gaps = dict()\n",
    "    for y_val in np.unique(Y):\n",
    "        TPR_ref = np.mean(\n",
    "                    y[filter_z_val(ref_z_val)][filter_y_val(y_val)[filter_z_val(ref_z_val)]] == y_val\n",
    "                )\n",
    "        TPR_compared = np.mean(\n",
    "                    y[filter_z_val(compared_z_val)][filter_y_val(y_val)[filter_z_val(compared_z_val)]] == y_val\n",
    "                )\n",
    "        TPR_Gaps[y_val] = TPR_ref - TPR_compared\n",
    "    return TPR_Gaps\n",
    "\n",
    "\n",
    "def Z_proportions(z_val, Z, Y): # gender imbalance\n",
    "    filter_y_val = lambda y_val: Y == y_val # filter on True Y predictions\n",
    "    Z_prop = dict()\n",
    "    for y_val in np.unique(Y):\n",
    "        Z_prop[y_val] = np.mean(Z[filter_y_val(y_val)] == z_val)\n",
    "    return Z_prop"
   ]
  },
  {
   "cell_type": "code",
   "execution_count": 35,
   "metadata": {},
   "outputs": [
    {
     "name": "stdout",
     "output_type": "stream",
     "text": [
      "Augmented train set\n",
      "-----------------\n",
      "Number of observations: 511420 (equals n original + (k-1)*n CFRs = k*n = 511420)\n",
      "\n",
      "Correlations in the augmented train set\n",
      "-----------------\n",
      "p(y=accountant|z=f)=0.50\n",
      "p(y=accountant|z=m)=0.50\n",
      " \n",
      "p(y=architect|z=f)=0.50\n",
      "p(y=architect|z=m)=0.50\n",
      " \n",
      "p(y=attorney|z=f)=0.50\n",
      "p(y=attorney|z=m)=0.50\n",
      " \n",
      "p(y=chiropractor|z=f)=0.50\n",
      "p(y=chiropractor|z=m)=0.50\n",
      " \n",
      "p(y=comedian|z=f)=0.50\n",
      "p(y=comedian|z=m)=0.50\n",
      " \n",
      "p(y=composer|z=f)=0.50\n",
      "p(y=composer|z=m)=0.50\n",
      " \n",
      "p(y=dentist|z=f)=0.50\n",
      "p(y=dentist|z=m)=0.50\n",
      " \n",
      "p(y=dietitian|z=f)=0.50\n",
      "p(y=dietitian|z=m)=0.50\n",
      " \n",
      "p(y=dj|z=f)=0.50\n",
      "p(y=dj|z=m)=0.50\n",
      " \n",
      "p(y=filmmaker|z=f)=0.50\n",
      "p(y=filmmaker|z=m)=0.50\n",
      " \n",
      "p(y=interior_designer|z=f)=0.50\n",
      "p(y=interior_designer|z=m)=0.50\n",
      " \n",
      "p(y=journalist|z=f)=0.50\n",
      "p(y=journalist|z=m)=0.50\n",
      " \n",
      "p(y=model|z=f)=0.50\n",
      "p(y=model|z=m)=0.50\n",
      " \n",
      "p(y=nurse|z=f)=0.50\n",
      "p(y=nurse|z=m)=0.50\n",
      " \n",
      "p(y=painter|z=f)=0.50\n",
      "p(y=painter|z=m)=0.50\n",
      " \n",
      "p(y=paralegal|z=f)=0.50\n",
      "p(y=paralegal|z=m)=0.50\n",
      " \n",
      "p(y=pastor|z=f)=0.50\n",
      "p(y=pastor|z=m)=0.50\n",
      " \n",
      "p(y=personal_trainer|z=f)=0.50\n",
      "p(y=personal_trainer|z=m)=0.50\n",
      " \n",
      "p(y=photographer|z=f)=0.50\n",
      "p(y=photographer|z=m)=0.50\n",
      " \n",
      "p(y=physician|z=f)=0.50\n",
      "p(y=physician|z=m)=0.50\n",
      " \n",
      "p(y=poet|z=f)=0.50\n",
      "p(y=poet|z=m)=0.50\n",
      " \n",
      "p(y=professor|z=f)=0.50\n",
      "p(y=professor|z=m)=0.50\n",
      " \n",
      "p(y=psychologist|z=f)=0.50\n",
      "p(y=psychologist|z=m)=0.50\n",
      " \n",
      "p(y=rapper|z=f)=0.50\n",
      "p(y=rapper|z=m)=0.50\n",
      " \n",
      "p(y=software_engineer|z=f)=0.50\n",
      "p(y=software_engineer|z=m)=0.50\n",
      " \n",
      "p(y=surgeon|z=f)=0.50\n",
      "p(y=surgeon|z=m)=0.50\n",
      " \n",
      "p(y=teacher|z=f)=0.50\n",
      "p(y=teacher|z=m)=0.50\n",
      " \n",
      "p(y=yoga_teacher|z=f)=0.50\n",
      "p(y=yoga_teacher|z=m)=0.50\n",
      " \n"
     ]
    }
   ],
   "source": [
    "# Let's train a new eta_y_aug on an augmented version of the dataset (adding all counterfactuals)\n",
    "\n",
    "Z_new = np.mod(np.concatenate([Z+1+i for i in range(k-1)]), k)\n",
    "Y_new = np.tile(Y, k)\n",
    "\n",
    "X_new = np.tile(X, (k-1, 1))\n",
    "X_new = LCVA_mse.predict(X_new, Z_new, no_sampling=True)\n",
    "X_new = np.concatenate((X, X_new), axis=0)\n",
    "\n",
    "print(\"Augmented train set\")\n",
    "print(\"-----------------\")\n",
    "print(\"Number of observations:\", X_new.shape[0], f\"(equals n original + (k-1)*n CFRs = k*n = {k*n})\\n\")\n",
    "\n",
    "\n",
    "# Displaying correlations in the augmented train set\n",
    "print(\"Correlations in the augmented train set\")\n",
    "print(\"-----------------\")\n",
    "Z_cat = np.concatenate((Z,Z_new))\n",
    "for i in np.unique(Y_new):\n",
    "    for j in np.unique(Z_cat):\n",
    "        print(f\"p(y={y_id2label[i]}|z={z_id2label[j]})={sum(Z_cat[Y_new==i]==j)/sum(Y_new==i):.2f}\")\n",
    "    print(' ')\n",
    "\n"
   ]
  },
  {
   "cell_type": "code",
   "execution_count": 39,
   "metadata": {},
   "outputs": [],
   "source": [
    "eta_y_aug = linear_classifier({'alpha': 1e-4})\n",
    "eta_y_aug.fit(X_new, Y_new)"
   ]
  },
  {
   "cell_type": "code",
   "execution_count": 40,
   "metadata": {},
   "outputs": [
    {
     "name": "stdout",
     "output_type": "stream",
     "text": [
      "Accuracy                  0.791029447653136   \n",
      "ATE estimation            0.0029626057273258693\n"
     ]
    }
   ],
   "source": [
    "cf_clf_y_aug = CounterfactualClassifier(eta_y_aug, LCVA_mse)\n",
    "results_eta_y_aug = cf_clf_y_aug.evaluate(X_test, Y_test, Z_CF=Z_CF_test, use_counterfactuals=False) # CFs are unavailable for this dataset\n",
    "for key,value in results_eta_y_aug.items():\n",
    "    print(f\"{key:<25} {value:<20}\")"
   ]
  },
  {
   "cell_type": "markdown",
   "metadata": {},
   "source": [
    "- No loss in accuracy\n",
    "- ATE estimation close to 0"
   ]
  },
  {
   "cell_type": "code",
   "execution_count": 41,
   "metadata": {},
   "outputs": [
    {
     "data": {
      "text/html": [
       "<style>#sk-container-id-1 {color: black;}#sk-container-id-1 pre{padding: 0;}#sk-container-id-1 div.sk-toggleable {background-color: white;}#sk-container-id-1 label.sk-toggleable__label {cursor: pointer;display: block;width: 100%;margin-bottom: 0;padding: 0.3em;box-sizing: border-box;text-align: center;}#sk-container-id-1 label.sk-toggleable__label-arrow:before {content: \"▸\";float: left;margin-right: 0.25em;color: #696969;}#sk-container-id-1 label.sk-toggleable__label-arrow:hover:before {color: black;}#sk-container-id-1 div.sk-estimator:hover label.sk-toggleable__label-arrow:before {color: black;}#sk-container-id-1 div.sk-toggleable__content {max-height: 0;max-width: 0;overflow: hidden;text-align: left;background-color: #f0f8ff;}#sk-container-id-1 div.sk-toggleable__content pre {margin: 0.2em;color: black;border-radius: 0.25em;background-color: #f0f8ff;}#sk-container-id-1 input.sk-toggleable__control:checked~div.sk-toggleable__content {max-height: 200px;max-width: 100%;overflow: auto;}#sk-container-id-1 input.sk-toggleable__control:checked~label.sk-toggleable__label-arrow:before {content: \"▾\";}#sk-container-id-1 div.sk-estimator input.sk-toggleable__control:checked~label.sk-toggleable__label {background-color: #d4ebff;}#sk-container-id-1 div.sk-label input.sk-toggleable__control:checked~label.sk-toggleable__label {background-color: #d4ebff;}#sk-container-id-1 input.sk-hidden--visually {border: 0;clip: rect(1px 1px 1px 1px);clip: rect(1px, 1px, 1px, 1px);height: 1px;margin: -1px;overflow: hidden;padding: 0;position: absolute;width: 1px;}#sk-container-id-1 div.sk-estimator {font-family: monospace;background-color: #f0f8ff;border: 1px dotted black;border-radius: 0.25em;box-sizing: border-box;margin-bottom: 0.5em;}#sk-container-id-1 div.sk-estimator:hover {background-color: #d4ebff;}#sk-container-id-1 div.sk-parallel-item::after {content: \"\";width: 100%;border-bottom: 1px solid gray;flex-grow: 1;}#sk-container-id-1 div.sk-label:hover label.sk-toggleable__label {background-color: #d4ebff;}#sk-container-id-1 div.sk-serial::before {content: \"\";position: absolute;border-left: 1px solid gray;box-sizing: border-box;top: 0;bottom: 0;left: 50%;z-index: 0;}#sk-container-id-1 div.sk-serial {display: flex;flex-direction: column;align-items: center;background-color: white;padding-right: 0.2em;padding-left: 0.2em;position: relative;}#sk-container-id-1 div.sk-item {position: relative;z-index: 1;}#sk-container-id-1 div.sk-parallel {display: flex;align-items: stretch;justify-content: center;background-color: white;position: relative;}#sk-container-id-1 div.sk-item::before, #sk-container-id-1 div.sk-parallel-item::before {content: \"\";position: absolute;border-left: 1px solid gray;box-sizing: border-box;top: 0;bottom: 0;left: 50%;z-index: -1;}#sk-container-id-1 div.sk-parallel-item {display: flex;flex-direction: column;z-index: 1;position: relative;background-color: white;}#sk-container-id-1 div.sk-parallel-item:first-child::after {align-self: flex-end;width: 50%;}#sk-container-id-1 div.sk-parallel-item:last-child::after {align-self: flex-start;width: 50%;}#sk-container-id-1 div.sk-parallel-item:only-child::after {width: 0;}#sk-container-id-1 div.sk-dashed-wrapped {border: 1px dashed gray;margin: 0 0.4em 0.5em 0.4em;box-sizing: border-box;padding-bottom: 0.4em;background-color: white;}#sk-container-id-1 div.sk-label label {font-family: monospace;font-weight: bold;display: inline-block;line-height: 1.2em;}#sk-container-id-1 div.sk-label-container {text-align: center;}#sk-container-id-1 div.sk-container {/* jupyter's `normalize.less` sets `[hidden] { display: none; }` but bootstrap.min.css set `[hidden] { display: none !important; }` so we also need the `!important` here to be able to override the default hidden behavior on the sphinx rendered scikit-learn.org. See: https://github.com/scikit-learn/scikit-learn/issues/21755 */display: inline-block !important;position: relative;}#sk-container-id-1 div.sk-text-repr-fallback {display: none;}</style><div id=\"sk-container-id-1\" class=\"sk-top-container\"><div class=\"sk-text-repr-fallback\"><pre>SGDClassifier(early_stopping=True, loss=&#x27;log_loss&#x27;, max_iter=5000,\n",
       "              n_iter_no_change=200, n_jobs=-1, random_state=42,\n",
       "              validation_fraction=0.2, warm_start=True)</pre><b>In a Jupyter environment, please rerun this cell to show the HTML representation or trust the notebook. <br />On GitHub, the HTML representation is unable to render, please try loading this page with nbviewer.org.</b></div><div class=\"sk-container\" hidden><div class=\"sk-item\"><div class=\"sk-estimator sk-toggleable\"><input class=\"sk-toggleable__control sk-hidden--visually\" id=\"sk-estimator-id-1\" type=\"checkbox\" checked><label for=\"sk-estimator-id-1\" class=\"sk-toggleable__label sk-toggleable__label-arrow\">SGDClassifier</label><div class=\"sk-toggleable__content\"><pre>SGDClassifier(early_stopping=True, loss=&#x27;log_loss&#x27;, max_iter=5000,\n",
       "              n_iter_no_change=200, n_jobs=-1, random_state=42,\n",
       "              validation_fraction=0.2, warm_start=True)</pre></div></div></div></div></div>"
      ],
      "text/plain": [
       "SGDClassifier(early_stopping=True, loss='log_loss', max_iter=5000,\n",
       "              n_iter_no_change=200, n_jobs=-1, random_state=42,\n",
       "              validation_fraction=0.2, warm_start=True)"
      ]
     },
     "execution_count": 41,
     "metadata": {},
     "output_type": "execute_result"
    }
   ],
   "source": [
    "# Let's now train a classifer on X^\\perp (scrubbed representations)\n",
    "eta_y_nogender = linear_classifier({'alpha': 1e-4})\n",
    "eta_y_nogender.fit(X_, Y)"
   ]
  },
  {
   "cell_type": "code",
   "execution_count": 42,
   "metadata": {},
   "outputs": [
    {
     "name": "stdout",
     "output_type": "stream",
     "text": [
      "Accuracy                  0.7912938257544945  \n",
      "ATE estimation            2.2701011738095805e-06\n"
     ]
    }
   ],
   "source": [
    "cf_clf_y_nogender = CounterfactualClassifier(eta_y_nogender, LCVA_mse)\n",
    "results_eta_y_nogender = cf_clf_y_nogender.evaluate(X_test, Y_test, Z_CF=Z_CF_test, use_counterfactuals=False) # CFs are unavailable for this dataset\n",
    "for key,value in results_eta_y_nogender.items():\n",
    "    print(f\"{key:<25} {value:<20}\")"
   ]
  },
  {
   "cell_type": "code",
   "execution_count": 67,
   "metadata": {},
   "outputs": [
    {
     "name": "stdout",
     "output_type": "stream",
     "text": [
      "occupation                  TPR-Gap (original)  TPR-Gap (augmented)  TPR-Gap (scrubbing)        Imbalance (%)\n",
      "----------                  ------------------  -------------------  -------------------        -------------\n",
      "accountant                              -0.011                0.004               -0.003                33.40\n",
      "architect                                0.060                0.088                0.089                17.13\n",
      "attorney                                -0.025               -0.021               -0.021                34.90\n",
      "chiropractor                            -0.087               -0.075               -0.075                30.05\n",
      "comedian                                -0.174               -0.137               -0.146                18.60\n",
      "composer                                -0.058               -0.031               -0.032                13.43\n",
      "dentist                                  0.022                0.026                0.026                35.76\n",
      "dietitian                                0.294                0.158                0.128                92.35\n",
      "dj                                      -0.322               -0.353               -0.316                10.78\n",
      "filmmaker                               -0.043               -0.041               -0.040                30.65\n",
      "interior_designer                        0.282                0.186                0.127                82.19\n",
      "journalist                               0.028                0.016                0.010                46.34\n",
      "model                                    0.427                0.423                0.417                77.87\n",
      "nurse                                    0.094                0.049                0.048                91.48\n",
      "painter                                  0.030                0.013                0.020                45.04\n",
      "paralegal                                0.125                0.062                0.064                85.94\n",
      "pastor                                  -0.050                0.009                0.040                23.22\n",
      "personal_trainer                        -0.146               -0.107               -0.095                45.25\n",
      "photographer                            -0.028               -0.020               -0.020                31.74\n",
      "physician                                0.185                0.187                0.185                73.70\n",
      "poet                                     0.036                0.026                0.038                46.46\n",
      "professor                               -0.002                0.005                0.007                43.08\n",
      "psychologist                             0.037               -0.018               -0.018                58.50\n",
      "rapper                                  -0.162               -0.128               -0.072                 6.55\n",
      "software_engineer                       -0.076               -0.052               -0.048                11.41\n",
      "surgeon                                 -0.268               -0.217               -0.215                18.23\n",
      "teacher                                  0.148                0.121                0.117                56.09\n",
      "yoga_teacher                             0.171                0.076                0.081                84.58\n"
     ]
    }
   ],
   "source": [
    "Z_props = Z_proportions(z_label2id['f'], Z_test, Y_test)\n",
    "y_labels = list(y_label2id.keys())\n",
    "TPR_gaps_eta_y_orig = TPR_Gaps(eta_y, X_test, Z_test, Y_test, z_label2id['f'], z_label2id['m'])\n",
    "TPR_gaps_eta_y_nogender = TPR_Gaps(eta_y_nogender, X_test, Z_test, Y_test, z_label2id['f'], z_label2id['m'])\n",
    "TPR_gaps_eta_y_aug = TPR_Gaps(eta_y_aug, X_test, Z_test, Y_test, z_label2id['f'], z_label2id['m'])\n",
    "for i in y_labels:\n",
    "    Z_props[i] = Z_props[y_label2id[i]]\n",
    "    TPR_gaps_eta_y_orig[i] = TPR_gaps_eta_y_orig[y_label2id[i]]\n",
    "    TPR_gaps_eta_y_nogender[i] = TPR_gaps_eta_y_nogender[y_label2id[i]]\n",
    "    TPR_gaps_eta_y_aug[i] = TPR_gaps_eta_y_aug[y_label2id[i]]\n",
    "\n",
    "print(f\"{'occupation':<25} {'TPR-Gap (original)':>20} {'TPR-Gap (augmented)':>20} {'TPR-Gap (scrubbing)':>20} {'Imbalance (%)':>20}\")\n",
    "print(f\"{'----------':<25} {'------------------':>20} {'-------------------':>20} {'-------------------':>20} {'-------------':>20}\")\n",
    "# print(f\"{i:<25} {TPR_gaps_eta_y_orig[i]:=6.3f} {TPR_gaps_eta_y_aug[i]:=6.3f} {TPR_gaps_eta_y_nogender[i]:=6.3f} {100*Z_props[i]:=6.2f}%\")\n",
    "for i in sorted(y_labels):\n",
    "    print(f\"{i:<25} {TPR_gaps_eta_y_orig[i]:>20.3f} {TPR_gaps_eta_y_aug[i]:>20.3f} {TPR_gaps_eta_y_nogender[i]:>20.3f} {100*Z_props[i]:>20.2f}\")"
   ]
  },
  {
   "cell_type": "code",
   "execution_count": 73,
   "metadata": {},
   "outputs": [
    {
     "name": "stdout",
     "output_type": "stream",
     "text": [
      "\n",
      "Weighted avg. of TPR-Gaps (original): 0.06995717681841973\n",
      "Weighted avg. of TPR-Gaps (nogender): 0.05935304775919639\n",
      "Weighted avg. of TPR-Gaps (augmented): 0.06007972422929079\n",
      "\n",
      "Correlation coef. (original): 0.814894323000858\n",
      "Correlation coef. (nogender): 0.6621092499453569\n",
      "Correlation coef. (augmented): 0.6924928597765578\n",
      "\n",
      "Linear regression coef. (original): 0.49866484654108095\n",
      "Linear regression coef. (nogender): 0.3243003688358968\n",
      "Linear regression coef. (augmented): 0.36296631027226\n"
     ]
    },
    {
     "data": {
      "image/png": "[encoded data removed]",
      "text/plain": [
       "<Figure size 500x500 with 1 Axes>"
      ]
     },
     "metadata": {},
     "output_type": "display_data"
    }
   ],
   "source": [
    "fig, TPR_gaps_linear = pyplot.subplots(1, 1, figsize = (5,5))\n",
    "\n",
    "x_Z_props = [Z_props[y_label] for y_label in y_labels]\n",
    "y_TPR_gaps_eta_y_orig = [TPR_gaps_eta_y_orig[y_label] for y_label in y_labels]\n",
    "y_TPR_gaps_eta_y_nogender = [TPR_gaps_eta_y_nogender[y_label] for y_label in y_labels]\n",
    "y_TPR_gaps_eta_y_aug = [TPR_gaps_eta_y_aug[y_label] for y_label in y_labels]\n",
    "\n",
    "linreg_orig = LinearRegression().fit(np.array(x_Z_props).reshape(-1,1), y_TPR_gaps_eta_y_orig)\n",
    "lin_reg_TPR_gaps_eta_y_orig = linreg_orig.predict([[0], [1]])\n",
    "linreg_nogender = LinearRegression().fit(np.array(x_Z_props).reshape(-1,1), y_TPR_gaps_eta_y_nogender)\n",
    "lin_reg_TPR_gaps_eta_y_nogender = linreg_nogender.predict([[0], [1]])\n",
    "linreg_aug = LinearRegression().fit(np.array(x_Z_props).reshape(-1,1), y_TPR_gaps_eta_y_aug)\n",
    "lin_reg_TPR_gaps_eta_y_aug = linreg_aug.predict([[0], [1]])\n",
    "\n",
    "\n",
    "a_scatter = TPR_gaps_linear.scatter(x_Z_props, y_TPR_gaps_eta_y_orig, label='$X$ (original)', s=10)\n",
    "b_scatter = TPR_gaps_linear.scatter(x_Z_props, y_TPR_gaps_eta_y_nogender, marker='^', label='$X^{\\perp}$ (scrubbed representation)', s=20)\n",
    "c_scatter = TPR_gaps_linear.scatter(x_Z_props, y_TPR_gaps_eta_y_aug, marker='+', label='$X$ + CFRs (augmented train set)', s=20)\n",
    "a_reg, = TPR_gaps_linear.plot([0,1],lin_reg_TPR_gaps_eta_y_orig, label='$X$ (original)') # '-', '--', '-.', ':', 'None', ' ', '', 'solid', 'dashed', 'dashdot', 'dotted'\n",
    "b_reg, = TPR_gaps_linear.plot([0,1],lin_reg_TPR_gaps_eta_y_nogender, linestyle='--', label='$X^{\\perp}$ (scrubbed representation)')\n",
    "c_reg, = TPR_gaps_linear.plot([0,1],lin_reg_TPR_gaps_eta_y_aug, linestyle=':', label='$X$ + CFRs (augmented train set)')\n",
    "\n",
    "\n",
    "# display psychologist\n",
    "key_psy = \"psychologist\"\n",
    "psy, = TPR_gaps_linear.plot([Z_props[key_psy], Z_props[key_psy]], [-1, 1], linestyle=':', color='grey')\n",
    "TPR_gaps_linear.annotate(f'{key_psy}', xy=(Z_props[key_psy], -0.4), xytext=(Z_props[key_psy]-0.04,-0.37), xycoords='data',rotation=90, fontsize=9, fontstyle='italic')\n",
    "\n",
    "# limits\n",
    "for ax in [TPR_gaps_linear]:\n",
    "    _ = ax.set_ylim([-0.4, 0.5])\n",
    "    _ = ax.set_xlim([0, 1])\n",
    "    xticks = sorted([0,20,40, 60, 80, 100])\n",
    "    xorig = [0,0.2,0.4, 0.6, 0.8, 1]\n",
    "    _ = ax.set_xticks(xorig, xticks)\n",
    "    _ = ax.set_xlabel('% female')\n",
    "    _ = ax.set_ylabel('$\\mathrm{TPR}$-Gap$_{\\mathrm{female}}$')\n",
    "\n",
    "\n",
    "from matplotlib.legend_handler import HandlerTuple\n",
    "\n",
    "l = TPR_gaps_linear.legend([(a_scatter, a_reg), (b_scatter, b_reg), (c_scatter, c_reg)], ['$X$ (original)', '$X^{\\perp}$ (scrubbed representation)', '$X$ + CFRs (augmented train set)'], handler_map={tuple: HandlerTuple(ndivide=None)}, title='Representation used during training:', alignment='left')\n",
    "\n",
    "\n",
    "\n",
    "y_proportions = np.unique(Y_test, return_counts=True)[1][np.array([y_label2id[y_label] for y_label in y_labels])]\n",
    "# TPR weighted\n",
    "print('')\n",
    "print(\"Weighted avg. of TPR-Gaps (original):\", np.sum([abs(y_TPR_gaps_eta_y_orig[i])*y_proportions[i] for i in range(len(y_labels))])/np.sum(y_proportions))\n",
    "print(\"Weighted avg. of TPR-Gaps (nogender):\",np.sum([abs(y_TPR_gaps_eta_y_nogender[i])*y_proportions[i] for i in range(len(y_labels))])/np.sum(y_proportions))\n",
    "print(\"Weighted avg. of TPR-Gaps (augmented):\",np.sum([abs(y_TPR_gaps_eta_y_aug[i])*y_proportions[i] for i in range(len(y_labels))])/np.sum(y_proportions))\n",
    "print('')\n",
    "print('Correlation coef. (original):', np.corrcoef(x_Z_props, y_TPR_gaps_eta_y_orig)[0,1])\n",
    "print('Correlation coef. (nogender):', np.corrcoef(x_Z_props, y_TPR_gaps_eta_y_nogender)[0,1])\n",
    "print('Correlation coef. (augmented):', np.corrcoef(x_Z_props, y_TPR_gaps_eta_y_aug)[0,1])\n",
    "print('')\n",
    "print('Linear regression coef. (original):', linreg_orig.coef_[0])\n",
    "print('Linear regression coef. (nogender):', linreg_nogender.coef_[0])\n",
    "print('Linear regression coef. (augmented):', linreg_aug.coef_[0])\n"
   ]
  },
  {
   "cell_type": "markdown",
   "metadata": {},
   "source": [
    "## Explaining a text classifier"
   ]
  },
  {
   "cell_type": "markdown",
   "metadata": {},
   "source": [
    "From the paper: \n",
    "\n",
    "The bias analysis [...] revolves around a somewhat involved miss-classification rate that we now embark to adapt for our purpose. Let's fix a gender $z$ and two occupations $y_\\mathrm{f}\\neq y_\\mathrm{t}$. First consider the subset of sentences $s$ with a gender $z$ which are misclassified as $y_\\mathrm{f}$ when the classifier $\\widehat{Y}$ uses the original representation $X(s)$ while it makes a correct prediction $y_\\mathrm{t}$ when using the CFR $X(s)_{Z\\leftarrow \\bar{z}}$ for the swapped gender $\\bar{z}$. We next consider the larger subset where we relax the misclassification constraint. We then define a missclassification rate $\\widehat{\\Pi}_{z,(y_{\\mathrm{f}}, y_{\\mathrm{t}})}$ as a ratio between the cardinalities of the former to the latter \n",
    "\n",
    "$$\\widehat{\\Pi}_{z,(y_{\\mathrm{f}}, y_{\\mathrm{t}})} :=  \\frac{\\left|\\left\\{ s|\\widehat{Y}(X(s))\\!=\\!y_{\\mathrm{f}}, \\widehat{Y}(X(s)_{Z\\leftarrow \\bar{z}})\\!=\\!Y(s)\\!=\\!y_{\\mathrm{t}}, Z(s)\\!=\\!z\\right\\}\\right|}{\\left|\\left\\{s|\\widehat{Y}(X(s)_{Z\\leftarrow \\bar{z}})\\!=\\!Y(s)\\!=\\!y_{\\mathrm{t}}, Z(s)\\!=\\!z \\right\\}\\right|}.$$\n",
    "\n",
    "This missclassification rate $\\widehat{\\Pi}_{z,(y_{\\mathrm{f}}, y_{\\mathrm{t}})}$ can be thought of as an estimator for a quantity $\\Pi_{z,(y_{\\mathrm{f}}, y_{\\mathrm{t}})}$ defined as in [the above equation] except that the representations $X(s_{Z\\leftarrow \\bar{z}})$ of the genuine CFs are used instead of the CFRs. At last we define $\\widehat{\\Pi}^{\\text{max}}_z$ as the maximum of  $\\widehat{\\Pi}_{z,(y_{\\mathrm{f}}, y_{\\mathrm{t}})}$ over all possible pairs $(y_\\mathrm{f}, y_\\mathrm{t})$."
   ]
  },
  {
   "cell_type": "code",
   "execution_count": 84,
   "metadata": {},
   "outputs": [],
   "source": [
    "def Pi(eta, X, Z, Y, z_label2id=z_label2id, y_label2id=y_label2id, use_fictitious_cf=True):\n",
    "    y = eta.predict(X)\n",
    "    if use_fictitious_cf:\n",
    "        cf_clf = CounterfactualClassifier(eta, LCVA_mse)\n",
    "        Z_CF_ = (1 - Z).astype(int)\n",
    "        y_cf = cf_clf.cf_predict(X, Z_CF_, no_sampling=True)\n",
    "    z_labels=list(z_label2id.keys())\n",
    "    y_labels=list(y_label2id.keys())\n",
    "    z_id2label = {v:k for k,v in z_label2id.items()}\n",
    "    y_id2label = {v:k for k,v in y_label2id.items()}\n",
    "    # now we have y (prediction from the true obs.), y_cf (prediction from the cf) and Y (ground truth)\n",
    "    S_g_y1_y2 = {z:{y1:{y2:0 for y2 in y_labels} for y1 in y_labels} for z in z_labels}\n",
    "    S_g_y2 = {z:{y2:0 for y2 in y_labels} for z in z_labels}\n",
    "    for (z, y_val, y_cf_val, y_true_val) in zip(Z, y, y_cf, Y):\n",
    "        if y_true_val == y_cf_val:\n",
    "            S_g_y2[z_id2label[z]][y_id2label[y_true_val]] += 1 # y2 = y_true\n",
    "            S_g_y1_y2[z_id2label[z]][y_id2label[y_val]][y_id2label[y_true_val]] += 1 # y1 = y_val\n",
    "    Pi_out = {z:{y1:{y2:100*S_g_y1_y2[z][y1][y2]/S_g_y2[z][y2] if not S_g_y2[z][y2]==0 else 0 for y2 in y_labels} for y1 in y_labels} for z in z_labels}\n",
    "\n",
    "\n",
    "    # Display the top 10 Pi\n",
    "    sorted_ = sorted([(Pi_out[z][y1][y2], z, y1, y2, S_g_y2[z][y2]) for z in z_labels for y1 in y_labels for y2 in y_labels], reverse=True)\n",
    "    sorted_filtered = [(z,y1,y2,p,n_ex) for (p,z,y1,y2,n_ex) in sorted_ if y1 !=y2]\n",
    "    male_pi = [f\"{a:<6} {b:<20} {c:<20} {d:>#5.2f}  {e:>15}\" for (a,b,c,d,e) in sorted_filtered if a == 'm']\n",
    "    print(f\"{'gender':<6} {'false prediction':<20} {'true occupation':<20} {'Pi':>5} {'samples count':>15}\")\n",
    "    print(f\"{'------':<6} {'----------------':<20} {'---------------':<20} {'--':>5} {'-------------':>15}\")\n",
    "    _ = [print(s) for s in male_pi[:10]]\n",
    "    print('')\n",
    "    female_pi = [f\"{a:<6} {b:<20} {c:<20} {d:>#5.2f}  {e:>15}\" for (a,b,c,d,e) in sorted_filtered if a == 'f']\n",
    "    print(f\"{'gender':<6} {'false prediction':<20} {'true occupation':<20} {'Pi':>5} {'samples count':>15}\")\n",
    "    print(f\"{'------':<6} {'----------------':<20} {'---------------':<20} {'--':>5} {'-------------':>15}\")\n",
    "    _ = [print(s) for s in female_pi[:10]]\n",
    "    return Pi_out"
   ]
  },
  {
   "cell_type": "code",
   "execution_count": 85,
   "metadata": {},
   "outputs": [
    {
     "name": "stdout",
     "output_type": "stream",
     "text": [
      "gender false prediction     true occupation         Pi   samples count\n",
      "------ ----------------     ---------------         --   -------------\n",
      "m      architect            interior_designer    38.46               39\n",
      "m      attorney             paralegal            33.33                6\n",
      "m      professor            dietitian            13.95               43\n",
      "m      professor            psychologist          9.54             1269\n",
      "m      teacher              yoga_teacher          7.50               40\n",
      "m      professor            teacher               6.03              862\n",
      "m      surgeon              chiropractor          5.88              102\n",
      "m      photographer         interior_designer     5.13               39\n",
      "m      professor            yoga_teacher          5.00               40\n",
      "m      surgeon              dietitian             4.65               43\n",
      "\n",
      "gender false prediction     true occupation         Pi   samples count\n",
      "------ ----------------     ---------------         --   -------------\n",
      "f      physician            surgeon              10.77              297\n",
      "f      physician            chiropractor         10.53               38\n",
      "f      teacher              pastor                9.47               95\n",
      "f      professor            surgeon               9.43              297\n",
      "f      nurse                dietitian             8.29              579\n",
      "f      journalist           comedian              7.29               96\n",
      "f      dietitian            personal_trainer      6.54              107\n",
      "f      model                comedian              6.25               96\n",
      "f      model                dj                    5.88               17\n",
      "f      nurse                surgeon               5.72              297\n"
     ]
    }
   ],
   "source": [
    "Pi_ = Pi(eta_y, X_test, Z_test, Y_test)"
   ]
  },
  {
   "cell_type": "code",
   "execution_count": 86,
   "metadata": {},
   "outputs": [
    {
     "name": "stdout",
     "output_type": "stream",
     "text": [
      "gender false prediction     true occupation         Pi   samples count\n",
      "------ ----------------     ---------------         --   -------------\n",
      "m      architect            software_engineer     0.93             1078\n",
      "m      professor            teacher               0.64              783\n",
      "m      professor            pastor                0.36              281\n",
      "m      psychologist         nurse                 0.34              290\n",
      "m      professor            accountant            0.34              588\n",
      "m      professor            software_engineer     0.28             1078\n",
      "m      professor            physician             0.26             1953\n",
      "m      rapper               comedian              0.23              440\n",
      "m      model                comedian              0.23              440\n",
      "m      filmmaker            comedian              0.23              440\n",
      "\n",
      "gender false prediction     true occupation         Pi   samples count\n",
      "------ ----------------     ---------------         --   -------------\n",
      "f      nurse                surgeon               1.36              220\n",
      "f      journalist           pastor                1.15               87\n",
      "f      nurse                dietitian             0.68              584\n",
      "f      software_engineer    architect             0.39              254\n",
      "f      professor            architect             0.39              254\n",
      "f      journalist           accountant            0.34              295\n",
      "f      journalist           filmmaker             0.24              410\n",
      "f      journalist           teacher               0.24             1266\n",
      "f      photographer         model                 0.17             1173\n",
      "f      photographer         painter               0.15              685\n"
     ]
    }
   ],
   "source": [
    "Pi_ = Pi(eta_y_aug, X_test, Z_test, Y_test)"
   ]
  },
  {
   "cell_type": "code",
   "execution_count": 87,
   "metadata": {},
   "outputs": [
    {
     "name": "stdout",
     "output_type": "stream",
     "text": [
      "gender false prediction     true occupation         Pi   samples count\n",
      "------ ----------------     ---------------         --   -------------\n",
      "m      yoga_teacher         teacher               0.00              781\n",
      "m      yoga_teacher         surgeon               0.00             1642\n",
      "m      yoga_teacher         software_engineer     0.00             1083\n",
      "m      yoga_teacher         rapper                0.00              266\n",
      "m      yoga_teacher         psychologist          0.00             1154\n",
      "m      yoga_teacher         professor             0.00            14867\n",
      "m      yoga_teacher         poet                  0.00              698\n",
      "m      yoga_teacher         physician             0.00             1945\n",
      "m      yoga_teacher         photographer          0.00             3654\n",
      "m      yoga_teacher         personal_trainer      0.00              136\n",
      "\n",
      "gender false prediction     true occupation         Pi   samples count\n",
      "------ ----------------     ---------------         --   -------------\n",
      "f      yoga_teacher         teacher               0.00             1263\n",
      "f      yoga_teacher         surgeon               0.00              236\n",
      "f      yoga_teacher         software_engineer     0.00              130\n",
      "f      yoga_teacher         rapper                0.00               17\n",
      "f      yoga_teacher         psychologist          0.00             1578\n",
      "f      yoga_teacher         professor             0.00            11343\n",
      "f      yoga_teacher         poet                  0.00              637\n",
      "f      yoga_teacher         physician             0.00             6766\n",
      "f      yoga_teacher         photographer          0.00             1661\n",
      "f      yoga_teacher         personal_trainer      0.00               97\n"
     ]
    }
   ],
   "source": [
    "Pi_ = Pi(eta_y_nogender, X_test, Z_test, Y_test)"
   ]
  }
 ],
 "metadata": {
  "kernelspec": {
   "display_name": "base",
   "language": "python",
   "name": "python3"
  },
  "language_info": {
   "codemirror_mode": {
    "name": "ipython",
    "version": 3
   },
   "file_extension": ".py",
   "mimetype": "text/x-python",
   "name": "python",
   "nbconvert_exporter": "python",
   "pygments_lexer": "ipython3",
   "version": "3.10.9"
  }
 },
 "nbformat": 4,
 "nbformat_minor": 2
}
